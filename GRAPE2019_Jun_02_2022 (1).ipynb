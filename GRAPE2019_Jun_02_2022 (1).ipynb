{
 "cells": [
  {
   "cell_type": "code",
   "execution_count": 1,
   "metadata": {},
   "outputs": [],
   "source": [
    "import numpy as np\n",
    "import matplotlib.pyplot as plt\n",
    "import math\n",
    "import pandas as pd\n",
    "import prince\n",
    "import mca\n",
    "from scipy.optimize import curve_fit\n",
    "from scipy.optimize import fsolve\n",
    "import seaborn as sns"
   ]
  },
  {
   "cell_type": "code",
   "execution_count": null,
   "metadata": {},
   "outputs": [],
   "source": []
  },
  {
   "cell_type": "code",
   "execution_count": null,
   "metadata": {},
   "outputs": [],
   "source": []
  },
  {
   "cell_type": "code",
   "execution_count": 2,
   "metadata": {},
   "outputs": [],
   "source": [
    "Cd109=pd.read_csv(\"GRAPE2019_Jun_02_22_08_26_41_.dat.tdms_formatted_data_edit.csv\")"
   ]
  },
  {
   "cell_type": "code",
   "execution_count": 3,
   "metadata": {},
   "outputs": [
    {
     "name": "stdout",
     "output_type": "stream",
     "text": [
      "       Plastic  LaBr  <<DATA>>\n",
      "0          125   133         0\n",
      "1          125   539         1\n",
      "2          125   139         2\n",
      "3          126   134         3\n",
      "4          125   220         4\n",
      "...        ...   ...       ...\n",
      "15355      126   228     15355\n",
      "15356      126   226     15356\n",
      "15357      125   130     15357\n",
      "15358      125   134     15358\n",
      "15359      126   132     15359\n",
      "\n",
      "[15360 rows x 3 columns]\n"
     ]
    }
   ],
   "source": [
    "print(Cd109)"
   ]
  },
  {
   "cell_type": "code",
   "execution_count": 4,
   "metadata": {},
   "outputs": [
    {
     "data": {
      "text/html": [
       "<div>\n",
       "<style scoped>\n",
       "    .dataframe tbody tr th:only-of-type {\n",
       "        vertical-align: middle;\n",
       "    }\n",
       "\n",
       "    .dataframe tbody tr th {\n",
       "        vertical-align: top;\n",
       "    }\n",
       "\n",
       "    .dataframe thead th {\n",
       "        text-align: right;\n",
       "    }\n",
       "</style>\n",
       "<table border=\"1\" class=\"dataframe\">\n",
       "  <thead>\n",
       "    <tr style=\"text-align: right;\">\n",
       "      <th></th>\n",
       "      <th>Plastic</th>\n",
       "      <th>LaBr</th>\n",
       "      <th>&lt;&lt;DATA&gt;&gt;</th>\n",
       "    </tr>\n",
       "  </thead>\n",
       "  <tbody>\n",
       "    <tr>\n",
       "      <th>0</th>\n",
       "      <td>125</td>\n",
       "      <td>133</td>\n",
       "      <td>0</td>\n",
       "    </tr>\n",
       "    <tr>\n",
       "      <th>1</th>\n",
       "      <td>125</td>\n",
       "      <td>539</td>\n",
       "      <td>1</td>\n",
       "    </tr>\n",
       "    <tr>\n",
       "      <th>2</th>\n",
       "      <td>125</td>\n",
       "      <td>139</td>\n",
       "      <td>2</td>\n",
       "    </tr>\n",
       "    <tr>\n",
       "      <th>3</th>\n",
       "      <td>126</td>\n",
       "      <td>134</td>\n",
       "      <td>3</td>\n",
       "    </tr>\n",
       "    <tr>\n",
       "      <th>4</th>\n",
       "      <td>125</td>\n",
       "      <td>220</td>\n",
       "      <td>4</td>\n",
       "    </tr>\n",
       "    <tr>\n",
       "      <th>...</th>\n",
       "      <td>...</td>\n",
       "      <td>...</td>\n",
       "      <td>...</td>\n",
       "    </tr>\n",
       "    <tr>\n",
       "      <th>15355</th>\n",
       "      <td>126</td>\n",
       "      <td>228</td>\n",
       "      <td>15355</td>\n",
       "    </tr>\n",
       "    <tr>\n",
       "      <th>15356</th>\n",
       "      <td>126</td>\n",
       "      <td>226</td>\n",
       "      <td>15356</td>\n",
       "    </tr>\n",
       "    <tr>\n",
       "      <th>15357</th>\n",
       "      <td>125</td>\n",
       "      <td>130</td>\n",
       "      <td>15357</td>\n",
       "    </tr>\n",
       "    <tr>\n",
       "      <th>15358</th>\n",
       "      <td>125</td>\n",
       "      <td>134</td>\n",
       "      <td>15358</td>\n",
       "    </tr>\n",
       "    <tr>\n",
       "      <th>15359</th>\n",
       "      <td>126</td>\n",
       "      <td>132</td>\n",
       "      <td>15359</td>\n",
       "    </tr>\n",
       "  </tbody>\n",
       "</table>\n",
       "<p>15360 rows × 3 columns</p>\n",
       "</div>"
      ],
      "text/plain": [
       "       Plastic  LaBr  <<DATA>>\n",
       "0          125   133         0\n",
       "1          125   539         1\n",
       "2          125   139         2\n",
       "3          126   134         3\n",
       "4          125   220         4\n",
       "...        ...   ...       ...\n",
       "15355      126   228     15355\n",
       "15356      126   226     15356\n",
       "15357      125   130     15357\n",
       "15358      125   134     15358\n",
       "15359      126   132     15359\n",
       "\n",
       "[15360 rows x 3 columns]"
      ]
     },
     "execution_count": 4,
     "metadata": {},
     "output_type": "execute_result"
    }
   ],
   "source": [
    "Cd109"
   ]
  },
  {
   "cell_type": "code",
   "execution_count": 5,
   "metadata": {},
   "outputs": [
    {
     "data": {
      "text/plain": [
       "258"
      ]
     },
     "execution_count": 5,
     "metadata": {},
     "output_type": "execute_result"
    }
   ],
   "source": [
    "Cd109.Plastic[0]+Cd109.LaBr[0]"
   ]
  },
  {
   "cell_type": "code",
   "execution_count": 6,
   "metadata": {},
   "outputs": [
    {
     "data": {
      "text/plain": [
       "664"
      ]
     },
     "execution_count": 6,
     "metadata": {},
     "output_type": "execute_result"
    }
   ],
   "source": [
    "Cd109.Plastic[1]+Cd109.LaBr[1]"
   ]
  },
  {
   "cell_type": "code",
   "execution_count": 7,
   "metadata": {},
   "outputs": [],
   "source": [
    "cols= ['Added']\n",
    "first=[]\n",
    "for i in range(15360):\n",
    "    added=Cd109.Plastic[i]+Cd109.LaBr[i]\n",
    "    first.append([added])\n",
    "    \n",
    "df=pd.DataFrame(first, columns=cols)\n",
    "    "
   ]
  },
  {
   "cell_type": "code",
   "execution_count": 8,
   "metadata": {},
   "outputs": [
    {
     "data": {
      "text/html": [
       "<div>\n",
       "<style scoped>\n",
       "    .dataframe tbody tr th:only-of-type {\n",
       "        vertical-align: middle;\n",
       "    }\n",
       "\n",
       "    .dataframe tbody tr th {\n",
       "        vertical-align: top;\n",
       "    }\n",
       "\n",
       "    .dataframe thead th {\n",
       "        text-align: right;\n",
       "    }\n",
       "</style>\n",
       "<table border=\"1\" class=\"dataframe\">\n",
       "  <thead>\n",
       "    <tr style=\"text-align: right;\">\n",
       "      <th></th>\n",
       "      <th>Added</th>\n",
       "    </tr>\n",
       "  </thead>\n",
       "  <tbody>\n",
       "    <tr>\n",
       "      <th>0</th>\n",
       "      <td>258</td>\n",
       "    </tr>\n",
       "    <tr>\n",
       "      <th>1</th>\n",
       "      <td>664</td>\n",
       "    </tr>\n",
       "    <tr>\n",
       "      <th>2</th>\n",
       "      <td>264</td>\n",
       "    </tr>\n",
       "    <tr>\n",
       "      <th>3</th>\n",
       "      <td>260</td>\n",
       "    </tr>\n",
       "    <tr>\n",
       "      <th>4</th>\n",
       "      <td>345</td>\n",
       "    </tr>\n",
       "    <tr>\n",
       "      <th>...</th>\n",
       "      <td>...</td>\n",
       "    </tr>\n",
       "    <tr>\n",
       "      <th>15355</th>\n",
       "      <td>354</td>\n",
       "    </tr>\n",
       "    <tr>\n",
       "      <th>15356</th>\n",
       "      <td>352</td>\n",
       "    </tr>\n",
       "    <tr>\n",
       "      <th>15357</th>\n",
       "      <td>255</td>\n",
       "    </tr>\n",
       "    <tr>\n",
       "      <th>15358</th>\n",
       "      <td>259</td>\n",
       "    </tr>\n",
       "    <tr>\n",
       "      <th>15359</th>\n",
       "      <td>258</td>\n",
       "    </tr>\n",
       "  </tbody>\n",
       "</table>\n",
       "<p>15360 rows × 1 columns</p>\n",
       "</div>"
      ],
      "text/plain": [
       "       Added\n",
       "0        258\n",
       "1        664\n",
       "2        264\n",
       "3        260\n",
       "4        345\n",
       "...      ...\n",
       "15355    354\n",
       "15356    352\n",
       "15357    255\n",
       "15358    259\n",
       "15359    258\n",
       "\n",
       "[15360 rows x 1 columns]"
      ]
     },
     "execution_count": 8,
     "metadata": {},
     "output_type": "execute_result"
    }
   ],
   "source": [
    "df"
   ]
  },
  {
   "cell_type": "code",
   "execution_count": null,
   "metadata": {},
   "outputs": [],
   "source": []
  },
  {
   "cell_type": "code",
   "execution_count": null,
   "metadata": {},
   "outputs": [],
   "source": []
  },
  {
   "cell_type": "code",
   "execution_count": 13,
   "metadata": {},
   "outputs": [],
   "source": [
    "x = (bins[:-1] + bins[1:]) / 2\n"
   ]
  },
  {
   "cell_type": "code",
   "execution_count": 14,
   "metadata": {},
   "outputs": [
    {
     "data": {
      "text/plain": [
       "array([ 50.5,  51.5,  52.5,  53.5,  54.5,  55.5,  56.5,  57.5,  58.5,\n",
       "        59.5,  60.5,  61.5,  62.5,  63.5,  64.5,  65.5,  66.5,  67.5,\n",
       "        68.5,  69.5,  70.5,  71.5,  72.5,  73.5,  74.5,  75.5,  76.5,\n",
       "        77.5,  78.5,  79.5,  80.5,  81.5,  82.5,  83.5,  84.5,  85.5,\n",
       "        86.5,  87.5,  88.5,  89.5,  90.5,  91.5,  92.5,  93.5,  94.5,\n",
       "        95.5,  96.5,  97.5,  98.5,  99.5, 100.5, 101.5, 102.5, 103.5,\n",
       "       104.5, 105.5, 106.5, 107.5, 108.5, 109.5, 110.5, 111.5, 112.5,\n",
       "       113.5, 114.5, 115.5, 116.5, 117.5, 118.5, 119.5, 120.5, 121.5,\n",
       "       122.5, 123.5, 124.5, 125.5, 126.5, 127.5, 128.5, 129.5, 130.5,\n",
       "       131.5, 132.5, 133.5, 134.5, 135.5, 136.5, 137.5, 138.5, 139.5,\n",
       "       140.5, 141.5, 142.5, 143.5, 144.5, 145.5, 146.5, 147.5, 148.5,\n",
       "       149.5, 150.5, 151.5, 152.5, 153.5, 154.5, 155.5, 156.5, 157.5,\n",
       "       158.5, 159.5, 160.5, 161.5, 162.5, 163.5, 164.5, 165.5, 166.5,\n",
       "       167.5, 168.5, 169.5, 170.5, 171.5, 172.5, 173.5, 174.5, 175.5,\n",
       "       176.5, 177.5, 178.5, 179.5, 180.5, 181.5, 182.5, 183.5, 184.5,\n",
       "       185.5, 186.5, 187.5, 188.5, 189.5, 190.5, 191.5, 192.5, 193.5,\n",
       "       194.5, 195.5, 196.5, 197.5, 198.5, 199.5, 200.5, 201.5, 202.5,\n",
       "       203.5, 204.5, 205.5, 206.5, 207.5, 208.5, 209.5, 210.5, 211.5,\n",
       "       212.5, 213.5, 214.5, 215.5, 216.5, 217.5, 218.5, 219.5, 220.5,\n",
       "       221.5, 222.5, 223.5, 224.5, 225.5, 226.5, 227.5, 228.5, 229.5,\n",
       "       230.5, 231.5, 232.5, 233.5, 234.5, 235.5, 236.5, 237.5, 238.5,\n",
       "       239.5, 240.5, 241.5, 242.5, 243.5, 244.5, 245.5, 246.5, 247.5,\n",
       "       248.5, 249.5])"
      ]
     },
     "execution_count": 14,
     "metadata": {},
     "output_type": "execute_result"
    }
   ],
   "source": [
    "x"
   ]
  },
  {
   "cell_type": "code",
   "execution_count": 15,
   "metadata": {},
   "outputs": [
    {
     "data": {
      "text/plain": [
       "array([0.000e+00, 0.000e+00, 0.000e+00, 0.000e+00, 0.000e+00, 0.000e+00,\n",
       "       0.000e+00, 0.000e+00, 0.000e+00, 0.000e+00, 0.000e+00, 0.000e+00,\n",
       "       0.000e+00, 0.000e+00, 0.000e+00, 0.000e+00, 0.000e+00, 0.000e+00,\n",
       "       0.000e+00, 0.000e+00, 0.000e+00, 0.000e+00, 0.000e+00, 0.000e+00,\n",
       "       0.000e+00, 0.000e+00, 0.000e+00, 0.000e+00, 0.000e+00, 0.000e+00,\n",
       "       0.000e+00, 0.000e+00, 0.000e+00, 0.000e+00, 0.000e+00, 0.000e+00,\n",
       "       0.000e+00, 0.000e+00, 0.000e+00, 1.000e+00, 0.000e+00, 0.000e+00,\n",
       "       0.000e+00, 0.000e+00, 1.000e+00, 0.000e+00, 0.000e+00, 1.000e+00,\n",
       "       0.000e+00, 0.000e+00, 4.000e+00, 7.000e+00, 6.000e+00, 2.000e+00,\n",
       "       1.000e+01, 2.100e+01, 3.100e+01, 3.800e+01, 4.500e+01, 4.400e+01,\n",
       "       3.600e+01, 4.400e+01, 3.800e+01, 2.700e+01, 4.900e+01, 7.000e+01,\n",
       "       1.220e+02, 1.540e+02, 1.880e+02, 1.550e+02, 1.220e+02, 1.220e+02,\n",
       "       8.400e+01, 4.900e+01, 4.800e+01, 5.500e+01, 9.900e+01, 2.000e+02,\n",
       "       3.540e+02, 5.770e+02, 8.750e+02, 1.029e+03, 1.085e+03, 1.009e+03,\n",
       "       8.850e+02, 7.480e+02, 5.720e+02, 4.270e+02, 2.830e+02, 1.840e+02,\n",
       "       9.900e+01, 4.200e+01, 2.800e+01, 1.300e+01, 7.000e+00, 5.000e+00,\n",
       "       1.400e+01, 1.700e+01, 2.600e+01, 2.600e+01, 2.300e+01, 2.500e+01,\n",
       "       2.800e+01, 2.000e+01, 3.200e+01, 2.100e+01, 2.400e+01, 2.200e+01,\n",
       "       1.400e+01, 1.400e+01, 5.000e+00, 6.000e+00, 6.000e+00, 7.000e+00,\n",
       "       8.000e+00, 5.000e+00, 3.000e+00, 9.000e+00, 3.000e+00, 8.000e+00,\n",
       "       4.000e+00, 8.000e+00, 9.000e+00, 6.000e+00, 1.000e+01, 8.000e+00,\n",
       "       1.300e+01, 1.100e+01, 1.700e+01, 1.000e+01, 1.400e+01, 1.900e+01,\n",
       "       1.400e+01, 8.000e+00, 1.200e+01, 1.300e+01, 9.000e+00, 1.100e+01,\n",
       "       1.200e+01, 1.400e+01, 8.000e+00, 7.000e+00, 8.000e+00, 1.500e+01,\n",
       "       3.000e+00, 1.400e+01, 3.000e+00, 1.500e+01, 2.300e+01, 2.000e+01,\n",
       "       1.200e+01, 1.300e+01, 1.600e+01, 1.700e+01, 2.300e+01, 2.000e+01,\n",
       "       2.400e+01, 2.500e+01, 2.100e+01, 2.400e+01, 2.100e+01, 2.100e+01,\n",
       "       1.400e+01, 2.100e+01, 2.800e+01, 2.700e+01, 2.500e+01, 2.600e+01,\n",
       "       2.500e+01, 4.900e+01, 4.300e+01, 5.200e+01, 6.300e+01, 7.800e+01,\n",
       "       1.080e+02, 1.040e+02, 1.480e+02, 1.400e+02, 1.850e+02, 1.960e+02,\n",
       "       2.060e+02, 2.330e+02, 2.220e+02, 2.280e+02, 2.080e+02, 1.870e+02,\n",
       "       1.730e+02, 1.600e+02, 1.240e+02, 9.700e+01, 8.400e+01, 5.200e+01,\n",
       "       3.600e+01, 3.500e+01, 1.900e+01, 1.300e+01, 8.000e+00, 5.000e+00,\n",
       "       8.000e+00, 6.000e+00])"
      ]
     },
     "execution_count": 15,
     "metadata": {},
     "output_type": "execute_result"
    }
   ],
   "source": [
    "n"
   ]
  },
  {
   "cell_type": "code",
   "execution_count": null,
   "metadata": {},
   "outputs": [],
   "source": []
  },
  {
   "cell_type": "code",
   "execution_count": 16,
   "metadata": {},
   "outputs": [
    {
     "data": {
      "image/png": "[encoded data removed]",
      "text/plain": [
       "<Figure size 432x288 with 1 Axes>"
      ]
     },
     "metadata": {
      "needs_background": "light"
     },
     "output_type": "display_data"
    }
   ],
   "source": [
    "n, bins, patches = plt.hist(Cd109['LaBr'], bins=200, range=(50,250))"
   ]
  },
  {
   "cell_type": "code",
   "execution_count": 17,
   "metadata": {},
   "outputs": [],
   "source": [
    "def fx(x, mu,sigma, A):\n",
    "    return (A/(sigma*np.sqrt(2*math.pi)))*np.exp((-1/2*(x-mu)**2)/sigma**2)"
   ]
  },
  {
   "cell_type": "code",
   "execution_count": 18,
   "metadata": {},
   "outputs": [],
   "source": [
    "def fline(x,m,b):\n",
    "    return (m*x)+b"
   ]
  },
  {
   "cell_type": "code",
   "execution_count": 19,
   "metadata": {},
   "outputs": [],
   "source": [
    "mean_cd109_22=135"
   ]
  },
  {
   "cell_type": "code",
   "execution_count": 20,
   "metadata": {},
   "outputs": [],
   "source": [
    "std_cd109_22=4.25"
   ]
  },
  {
   "cell_type": "code",
   "execution_count": 21,
   "metadata": {},
   "outputs": [],
   "source": [
    "Area_cd109_22=11000"
   ]
  },
  {
   "cell_type": "code",
   "execution_count": 22,
   "metadata": {},
   "outputs": [],
   "source": [
    "p0_cd109_22=[mean_cd109_22,std_cd109_22,Area_cd109_22]"
   ]
  },
  {
   "cell_type": "code",
   "execution_count": 23,
   "metadata": {},
   "outputs": [],
   "source": [
    "mean_cd109_88=230"
   ]
  },
  {
   "cell_type": "code",
   "execution_count": 24,
   "metadata": {},
   "outputs": [],
   "source": [
    "std_cd109_88=5"
   ]
  },
  {
   "cell_type": "code",
   "execution_count": 25,
   "metadata": {},
   "outputs": [],
   "source": [
    "Area_cd109_88=2625"
   ]
  },
  {
   "cell_type": "code",
   "execution_count": 26,
   "metadata": {},
   "outputs": [],
   "source": [
    "p0_cd109_22=[mean_cd109_22,std_cd109_22,Area_cd109_22]"
   ]
  },
  {
   "cell_type": "code",
   "execution_count": 27,
   "metadata": {},
   "outputs": [],
   "source": [
    "param1, param_cov1=curve_fit(fx,x,n,p0_cd109_22)"
   ]
  },
  {
   "cell_type": "code",
   "execution_count": 28,
   "metadata": {},
   "outputs": [
    {
     "data": {
      "text/plain": [
       "array([1.32946057e+02, 3.21758479e+00, 8.59768349e+03])"
      ]
     },
     "execution_count": 28,
     "metadata": {},
     "output_type": "execute_result"
    }
   ],
   "source": [
    "param1"
   ]
  },
  {
   "cell_type": "code",
   "execution_count": 29,
   "metadata": {},
   "outputs": [
    {
     "data": {
      "text/plain": [
       "array([[ 1.18740991e-02, -3.61496433e-09,  6.48472811e-08],\n",
       "       [-3.61496433e-09,  1.18740994e-02,  1.58643420e+01],\n",
       "       [ 6.48472811e-08,  1.58643420e+01,  6.35864683e+04]])"
      ]
     },
     "execution_count": 29,
     "metadata": {},
     "output_type": "execute_result"
    }
   ],
   "source": [
    "param_cov1"
   ]
  },
  {
   "cell_type": "code",
   "execution_count": 30,
   "metadata": {},
   "outputs": [],
   "source": [
    "y_fit=fx(x,param1[0],param1[1],param1[2])"
   ]
  },
  {
   "cell_type": "code",
   "execution_count": null,
   "metadata": {},
   "outputs": [],
   "source": []
  },
  {
   "cell_type": "code",
   "execution_count": 31,
   "metadata": {},
   "outputs": [
    {
     "data": {
      "image/png": "[encoded data removed]",
      "text/plain": [
       "<Figure size 432x288 with 1 Axes>"
      ]
     },
     "metadata": {
      "needs_background": "light"
     },
     "output_type": "display_data"
    }
   ],
   "source": [
    "plt.plot(x,n, label='Data')\n",
    "plt.plot(x,y_fit,label='Fit')\n",
    "plt.title(\"Gaussian Fit of Cd109 (22 keV)\")\n",
    "plt.xlabel(\"Channel Number\")\n",
    "plt.ylabel(\"Event Counts\")\n",
    "plt.legend\n",
    "plt.savefig(\"Gaussian Fit of Cd109 (22keV).jpg\")"
   ]
  },
  {
   "cell_type": "code",
   "execution_count": 32,
   "metadata": {},
   "outputs": [],
   "source": [
    "p0_cd109_88=[mean_cd109_88,std_cd109_88,Area_cd109_88]"
   ]
  },
  {
   "cell_type": "code",
   "execution_count": 33,
   "metadata": {},
   "outputs": [],
   "source": [
    "param2, param_cov2=curve_fit(fx,x,n,p0_cd109_88)"
   ]
  },
  {
   "cell_type": "code",
   "execution_count": 34,
   "metadata": {},
   "outputs": [
    {
     "data": {
      "text/plain": [
       "array([ 232.0703921 ,    6.03471809, 3342.51568595])"
      ]
     },
     "execution_count": 34,
     "metadata": {},
     "output_type": "execute_result"
    }
   ],
   "source": [
    "param2"
   ]
  },
  {
   "cell_type": "code",
   "execution_count": 35,
   "metadata": {},
   "outputs": [
    {
     "data": {
      "text/plain": [
       "array([[4.73989229e+00, 3.56778209e-03, 1.09344325e+00],\n",
       "       [3.56778209e-03, 4.74940510e+00, 1.31546839e+03],\n",
       "       [1.09344325e+00, 1.31546839e+03, 1.09107709e+06]])"
      ]
     },
     "execution_count": 35,
     "metadata": {},
     "output_type": "execute_result"
    }
   ],
   "source": [
    "param_cov2"
   ]
  },
  {
   "cell_type": "code",
   "execution_count": 36,
   "metadata": {},
   "outputs": [],
   "source": [
    "y_fit2=fx(x,param2[0],param2[1],param2[2])"
   ]
  },
  {
   "cell_type": "code",
   "execution_count": 37,
   "metadata": {},
   "outputs": [
    {
     "data": {
      "image/png": "[encoded data removed]",
      "text/plain": [
       "<Figure size 432x288 with 1 Axes>"
      ]
     },
     "metadata": {
      "needs_background": "light"
     },
     "output_type": "display_data"
    }
   ],
   "source": [
    "plt.plot(x,n, label='Data')\n",
    "plt.plot(x,y_fit2,label='Fit')\n",
    "plt.title(\"Gaussian Fit of Cd109 (88 keV)\")\n",
    "plt.xlabel(\"Channel Number\")\n",
    "plt.ylabel(\"Event Counts\")\n",
    "plt.legend\n",
    "plt.savefig(\"Gaussian Fit of Cd109 (88keV).jpg\")"
   ]
  },
  {
   "cell_type": "code",
   "execution_count": 38,
   "metadata": {},
   "outputs": [],
   "source": [
    "Am241=pd.read_csv(\"GRAPE2019_Jun_02_22_08_30_54_.dat.tdms_formatted_data_edit.csv\")"
   ]
  },
  {
   "cell_type": "code",
   "execution_count": 39,
   "metadata": {},
   "outputs": [
    {
     "data": {
      "text/html": [
       "<div>\n",
       "<style scoped>\n",
       "    .dataframe tbody tr th:only-of-type {\n",
       "        vertical-align: middle;\n",
       "    }\n",
       "\n",
       "    .dataframe tbody tr th {\n",
       "        vertical-align: top;\n",
       "    }\n",
       "\n",
       "    .dataframe thead th {\n",
       "        text-align: right;\n",
       "    }\n",
       "</style>\n",
       "<table border=\"1\" class=\"dataframe\">\n",
       "  <thead>\n",
       "    <tr style=\"text-align: right;\">\n",
       "      <th></th>\n",
       "      <th>Plastic</th>\n",
       "      <th>LaBr</th>\n",
       "    </tr>\n",
       "  </thead>\n",
       "  <tbody>\n",
       "    <tr>\n",
       "      <th>0</th>\n",
       "      <td>125</td>\n",
       "      <td>166</td>\n",
       "    </tr>\n",
       "    <tr>\n",
       "      <th>1</th>\n",
       "      <td>125</td>\n",
       "      <td>190</td>\n",
       "    </tr>\n",
       "    <tr>\n",
       "      <th>2</th>\n",
       "      <td>125</td>\n",
       "      <td>181</td>\n",
       "    </tr>\n",
       "    <tr>\n",
       "      <th>3</th>\n",
       "      <td>125</td>\n",
       "      <td>180</td>\n",
       "    </tr>\n",
       "    <tr>\n",
       "      <th>4</th>\n",
       "      <td>124</td>\n",
       "      <td>159</td>\n",
       "    </tr>\n",
       "    <tr>\n",
       "      <th>...</th>\n",
       "      <td>...</td>\n",
       "      <td>...</td>\n",
       "    </tr>\n",
       "    <tr>\n",
       "      <th>26299</th>\n",
       "      <td>125</td>\n",
       "      <td>189</td>\n",
       "    </tr>\n",
       "    <tr>\n",
       "      <th>26300</th>\n",
       "      <td>125</td>\n",
       "      <td>171</td>\n",
       "    </tr>\n",
       "    <tr>\n",
       "      <th>26301</th>\n",
       "      <td>125</td>\n",
       "      <td>1162</td>\n",
       "    </tr>\n",
       "    <tr>\n",
       "      <th>26302</th>\n",
       "      <td>124</td>\n",
       "      <td>186</td>\n",
       "    </tr>\n",
       "    <tr>\n",
       "      <th>26303</th>\n",
       "      <td>125</td>\n",
       "      <td>164</td>\n",
       "    </tr>\n",
       "  </tbody>\n",
       "</table>\n",
       "<p>26304 rows × 2 columns</p>\n",
       "</div>"
      ],
      "text/plain": [
       "       Plastic  LaBr\n",
       "0          125   166\n",
       "1          125   190\n",
       "2          125   181\n",
       "3          125   180\n",
       "4          124   159\n",
       "...        ...   ...\n",
       "26299      125   189\n",
       "26300      125   171\n",
       "26301      125  1162\n",
       "26302      124   186\n",
       "26303      125   164\n",
       "\n",
       "[26304 rows x 2 columns]"
      ]
     },
     "execution_count": 39,
     "metadata": {},
     "output_type": "execute_result"
    }
   ],
   "source": [
    "Am241"
   ]
  },
  {
   "cell_type": "code",
   "execution_count": 40,
   "metadata": {},
   "outputs": [
    {
     "data": {
      "image/png": "[encoded data removed]",
      "text/plain": [
       "<Figure size 432x288 with 1 Axes>"
      ]
     },
     "metadata": {
      "needs_background": "light"
     },
     "output_type": "display_data"
    }
   ],
   "source": [
    "n2, bins2, patches2 = plt.hist(Am241['LaBr'], bins=100, range=(0,210))"
   ]
  },
  {
   "cell_type": "code",
   "execution_count": 41,
   "metadata": {},
   "outputs": [],
   "source": [
    "mean_Am241=185"
   ]
  },
  {
   "cell_type": "code",
   "execution_count": 42,
   "metadata": {},
   "outputs": [],
   "source": [
    "std_Am241=5"
   ]
  },
  {
   "cell_type": "code",
   "execution_count": 43,
   "metadata": {},
   "outputs": [],
   "source": [
    "Area_Am241=151250"
   ]
  },
  {
   "cell_type": "code",
   "execution_count": 44,
   "metadata": {},
   "outputs": [],
   "source": [
    "p0_Am241=[mean_Am241,std_Am241,Area_Am241]"
   ]
  },
  {
   "cell_type": "code",
   "execution_count": 45,
   "metadata": {},
   "outputs": [],
   "source": [
    "x2 = (bins2[:-1] + bins2[1:]) / 2"
   ]
  },
  {
   "cell_type": "code",
   "execution_count": 46,
   "metadata": {},
   "outputs": [],
   "source": [
    "param3, param_cov3=curve_fit(fx,x2,n2,p0_Am241)"
   ]
  },
  {
   "cell_type": "code",
   "execution_count": 47,
   "metadata": {},
   "outputs": [
    {
     "data": {
      "text/plain": [
       "array([1.84601010e+02, 5.87039395e+00, 3.96095562e+04])"
      ]
     },
     "execution_count": 47,
     "metadata": {},
     "output_type": "execute_result"
    }
   ],
   "source": [
    "param3"
   ]
  },
  {
   "cell_type": "code",
   "execution_count": 48,
   "metadata": {},
   "outputs": [
    {
     "data": {
      "text/plain": [
       "array([[ 5.57748744e-02, -9.68434201e-09,  1.22331463e-05],\n",
       "       [-9.68434201e-09,  5.57748901e-02,  1.88167862e+02],\n",
       "       [ 1.22331463e-05,  1.88167862e+02,  1.90446655e+06]])"
      ]
     },
     "execution_count": 48,
     "metadata": {},
     "output_type": "execute_result"
    }
   ],
   "source": [
    "param_cov3"
   ]
  },
  {
   "cell_type": "code",
   "execution_count": 49,
   "metadata": {},
   "outputs": [],
   "source": [
    "y_fit3=fx(x2,param3[0],param3[1],param3[2])"
   ]
  },
  {
   "cell_type": "code",
   "execution_count": 50,
   "metadata": {},
   "outputs": [
    {
     "data": {
      "image/png": "[encoded data removed]",
      "text/plain": [
       "<Figure size 432x288 with 1 Axes>"
      ]
     },
     "metadata": {
      "needs_background": "light"
     },
     "output_type": "display_data"
    }
   ],
   "source": [
    "plt.plot(x2,n2, label='Data')\n",
    "plt.plot(x2,y_fit3,label='Fit')\n",
    "plt.title(\"Gaussian Fit of Am241(59 keV)\")\n",
    "plt.xlabel(\"Channel Number\")\n",
    "plt.ylabel(\"Event Counts\")\n",
    "plt.legend\n",
    "plt.savefig(\"Gaussian Fit of Am241 (59keV).jpg\")"
   ]
  },
  {
   "cell_type": "code",
   "execution_count": 51,
   "metadata": {},
   "outputs": [],
   "source": [
    "Co57=pd.read_csv(\"GRAPE2019_Jun_02_22_08_33_13_.dat.tdms_formatted_data_edit.csv\")"
   ]
  },
  {
   "cell_type": "code",
   "execution_count": 52,
   "metadata": {},
   "outputs": [
    {
     "data": {
      "image/png": "[encoded data removed]",
      "text/plain": [
       "<Figure size 432x288 with 1 Axes>"
      ]
     },
     "metadata": {
      "needs_background": "light"
     },
     "output_type": "display_data"
    }
   ],
   "source": [
    "n3, bins3, patches3,=plt.hist(Co57['LaBr'], bins=100, range=(0,400))"
   ]
  },
  {
   "cell_type": "code",
   "execution_count": 53,
   "metadata": {},
   "outputs": [],
   "source": [
    "mean_Co57=285"
   ]
  },
  {
   "cell_type": "code",
   "execution_count": 54,
   "metadata": {},
   "outputs": [],
   "source": [
    "std_Co57=5"
   ]
  },
  {
   "cell_type": "code",
   "execution_count": 55,
   "metadata": {},
   "outputs": [],
   "source": [
    "Area_Co57=12000"
   ]
  },
  {
   "cell_type": "code",
   "execution_count": 56,
   "metadata": {},
   "outputs": [],
   "source": [
    "p0_Co57=[mean_Co57,std_Co57,Area_Co57]"
   ]
  },
  {
   "cell_type": "code",
   "execution_count": 57,
   "metadata": {},
   "outputs": [],
   "source": [
    "x3 = (bins3[:-1] + bins3[1:]) / 2"
   ]
  },
  {
   "cell_type": "code",
   "execution_count": 58,
   "metadata": {},
   "outputs": [],
   "source": [
    "param4, param_cov4=curve_fit(fx,x3,n3,p0_Co57)"
   ]
  },
  {
   "cell_type": "code",
   "execution_count": 59,
   "metadata": {},
   "outputs": [
    {
     "data": {
      "text/plain": [
       "array([2.85454244e+02, 7.88766066e+00, 2.65323534e+04])"
      ]
     },
     "execution_count": 59,
     "metadata": {},
     "output_type": "execute_result"
    }
   ],
   "source": [
    "param4"
   ]
  },
  {
   "cell_type": "code",
   "execution_count": 60,
   "metadata": {},
   "outputs": [
    {
     "data": {
      "text/plain": [
       "array([[ 1.17411584e-01, -3.20344868e-08, -9.18490939e-07],\n",
       "       [-3.20344868e-08,  1.17411589e-01,  1.97470726e+02],\n",
       "       [-9.18490939e-07,  1.97470726e+02,  9.96358714e+05]])"
      ]
     },
     "execution_count": 60,
     "metadata": {},
     "output_type": "execute_result"
    }
   ],
   "source": [
    "param_cov4"
   ]
  },
  {
   "cell_type": "code",
   "execution_count": 61,
   "metadata": {},
   "outputs": [],
   "source": [
    "y_fit4=fx(x3,param4[0],param4[1],param4[2])"
   ]
  },
  {
   "cell_type": "code",
   "execution_count": 62,
   "metadata": {},
   "outputs": [
    {
     "data": {
      "image/png": "[encoded data removed]",
      "text/plain": [
       "<Figure size 432x288 with 1 Axes>"
      ]
     },
     "metadata": {
      "needs_background": "light"
     },
     "output_type": "display_data"
    }
   ],
   "source": [
    "plt.plot(x3,n3, label='Data')\n",
    "plt.plot(x3,y_fit4,label='Fit')\n",
    "plt.title(\"Gaussian Fit of Co57(122 keV)\")\n",
    "plt.xlabel(\"Channel Number\")\n",
    "plt.ylabel(\"Event Counts\")\n",
    "plt.legend\n",
    "plt.savefig(\"Gaussian Fit of Co57 (122keV).jpg\")"
   ]
  },
  {
   "cell_type": "code",
   "execution_count": null,
   "metadata": {},
   "outputs": [],
   "source": []
  },
  {
   "cell_type": "code",
   "execution_count": 63,
   "metadata": {},
   "outputs": [],
   "source": [
    "Ba133=pd.read_csv(\"GRAPE2019_Jun_02_22_08_35_05_.dat.tdms_formatted_data_edit.csv\")"
   ]
  },
  {
   "cell_type": "code",
   "execution_count": 64,
   "metadata": {},
   "outputs": [
    {
     "data": {
      "image/png": "[encoded data removed]",
      "text/plain": [
       "<Figure size 432x288 with 1 Axes>"
      ]
     },
     "metadata": {
      "needs_background": "light"
     },
     "output_type": "display_data"
    }
   ],
   "source": [
    "n4, bins4, patches4=plt.hist(Ba133['LaBr'], bins=200, range=(0,600))"
   ]
  },
  {
   "cell_type": "markdown",
   "metadata": {},
   "source": []
  },
  {
   "cell_type": "code",
   "execution_count": 65,
   "metadata": {},
   "outputs": [],
   "source": [
    "mean_Ba133_1st=145"
   ]
  },
  {
   "cell_type": "code",
   "execution_count": 66,
   "metadata": {},
   "outputs": [],
   "source": [
    "std_Ba133_1st=7.5"
   ]
  },
  {
   "cell_type": "code",
   "execution_count": 67,
   "metadata": {},
   "outputs": [],
   "source": [
    "Area_Ba133_1st=135000"
   ]
  },
  {
   "cell_type": "code",
   "execution_count": 68,
   "metadata": {},
   "outputs": [],
   "source": [
    "p0_Ba133_1st=[mean_Ba133_1st,std_Ba133_1st,Area_Ba133_1st]"
   ]
  },
  {
   "cell_type": "code",
   "execution_count": 69,
   "metadata": {},
   "outputs": [],
   "source": [
    "x4= (bins4[:-1] + bins4[1:]) / 2"
   ]
  },
  {
   "cell_type": "code",
   "execution_count": 70,
   "metadata": {},
   "outputs": [],
   "source": [
    "param5, param_cov5=curve_fit(fx,x4,n4,p0_Ba133_1st)"
   ]
  },
  {
   "cell_type": "code",
   "execution_count": 71,
   "metadata": {},
   "outputs": [
    {
     "data": {
      "text/plain": [
       "array([1.44234608e+02, 4.28796663e+00, 1.29384582e+05])"
      ]
     },
     "execution_count": 71,
     "metadata": {},
     "output_type": "execute_result"
    }
   ],
   "source": [
    "param5"
   ]
  },
  {
   "cell_type": "code",
   "execution_count": 72,
   "metadata": {},
   "outputs": [
    {
     "data": {
      "text/plain": [
       "array([[7.17851546e-02, 2.13744708e-09, 2.84922783e-04],\n",
       "       [2.13744708e-09, 7.17853287e-02, 1.08303529e+03],\n",
       "       [2.84922783e-04, 1.08303529e+03, 4.90196489e+07]])"
      ]
     },
     "execution_count": 72,
     "metadata": {},
     "output_type": "execute_result"
    }
   ],
   "source": [
    "param_cov5"
   ]
  },
  {
   "cell_type": "code",
   "execution_count": 73,
   "metadata": {},
   "outputs": [],
   "source": [
    "y_fit5=fx(x4,param5[0],param5[1],param5[2])"
   ]
  },
  {
   "cell_type": "code",
   "execution_count": 74,
   "metadata": {},
   "outputs": [
    {
     "data": {
      "image/png": "[encoded data removed]",
      "text/plain": [
       "<Figure size 432x288 with 1 Axes>"
      ]
     },
     "metadata": {
      "needs_background": "light"
     },
     "output_type": "display_data"
    }
   ],
   "source": [
    "plt.plot(x4,n4, label='Data')\n",
    "plt.plot(x4,y_fit5,label='Fit')\n",
    "plt.title(\"Gaussian Fit of Ba133(31 keV)\")\n",
    "plt.xlabel(\"Channel Number\")\n",
    "plt.ylabel(\"Event Counts\")\n",
    "plt.legend\n",
    "plt.savefig(\"Gaussian Fit of Ba133 (31keV).jpg\")"
   ]
  },
  {
   "cell_type": "code",
   "execution_count": 75,
   "metadata": {},
   "outputs": [],
   "source": [
    "mean_Ba133_2nd=218"
   ]
  },
  {
   "cell_type": "code",
   "execution_count": 76,
   "metadata": {},
   "outputs": [],
   "source": [
    "std_Ba133_2nd=1.27"
   ]
  },
  {
   "cell_type": "code",
   "execution_count": 77,
   "metadata": {},
   "outputs": [],
   "source": [
    "Area_Ba133_2nd=14750"
   ]
  },
  {
   "cell_type": "code",
   "execution_count": 78,
   "metadata": {},
   "outputs": [],
   "source": [
    "p0_Ba133_2nd=[mean_Ba133_2nd,std_Ba133_2nd,Area_Ba133_2nd]"
   ]
  },
  {
   "cell_type": "code",
   "execution_count": 79,
   "metadata": {},
   "outputs": [],
   "source": [
    "param6, param_cov6=curve_fit(fx,x4,n4,p0_Ba133_2nd)"
   ]
  },
  {
   "cell_type": "code",
   "execution_count": 80,
   "metadata": {},
   "outputs": [
    {
     "data": {
      "text/plain": [
       "array([2.17916886e+02, 7.48681125e+00, 8.91444434e+04])"
      ]
     },
     "execution_count": 80,
     "metadata": {},
     "output_type": "execute_result"
    }
   ],
   "source": [
    "param6"
   ]
  },
  {
   "cell_type": "code",
   "execution_count": 81,
   "metadata": {},
   "outputs": [
    {
     "data": {
      "text/plain": [
       "array([[ 2.32962340e+00, -5.00861693e-07,  3.82112902e-05],\n",
       "       [-5.00861693e-07,  2.32962349e+00,  1.38682436e+04],\n",
       "       [ 3.82112902e-05,  1.38682436e+04,  2.47672872e+08]])"
      ]
     },
     "execution_count": 81,
     "metadata": {},
     "output_type": "execute_result"
    }
   ],
   "source": [
    "param_cov6"
   ]
  },
  {
   "cell_type": "code",
   "execution_count": 82,
   "metadata": {},
   "outputs": [],
   "source": [
    "y_fit6=fx(x4,param6[0],param6[1],param6[2])"
   ]
  },
  {
   "cell_type": "code",
   "execution_count": 83,
   "metadata": {},
   "outputs": [
    {
     "data": {
      "image/png": "[encoded data removed]",
      "text/plain": [
       "<Figure size 432x288 with 1 Axes>"
      ]
     },
     "metadata": {
      "needs_background": "light"
     },
     "output_type": "display_data"
    }
   ],
   "source": [
    "plt.plot(x4,n4, label='Data')\n",
    "plt.plot(x4,y_fit6,label='Fit')\n",
    "plt.title(\"Gaussian Fit of Ba133(81 keV)\")\n",
    "plt.xlabel(\"Channel Number\")\n",
    "plt.ylabel(\"Event Counts\")\n",
    "plt.legend\n",
    "plt.savefig(\"Gaussian Fit of Ba133 (81keV).jpg\")"
   ]
  },
  {
   "cell_type": "code",
   "execution_count": null,
   "metadata": {},
   "outputs": [],
   "source": []
  },
  {
   "cell_type": "code",
   "execution_count": 84,
   "metadata": {},
   "outputs": [],
   "source": [
    "Na22=pd.read_csv(\"GRAPE2019_Jun_02_22_08_41_43_.dat.tdms_formatted_data_edit.csv\")"
   ]
  },
  {
   "cell_type": "code",
   "execution_count": 85,
   "metadata": {},
   "outputs": [
    {
     "data": {
      "image/png": "[encoded data removed]",
      "text/plain": [
       "<Figure size 432x288 with 1 Axes>"
      ]
     },
     "metadata": {
      "needs_background": "light"
     },
     "output_type": "display_data"
    }
   ],
   "source": [
    "n5, bins5, patches5=plt.hist(Na22['LaBr'], bins=200)"
   ]
  },
  {
   "cell_type": "code",
   "execution_count": 86,
   "metadata": {},
   "outputs": [],
   "source": [
    "mean_Na22=820"
   ]
  },
  {
   "cell_type": "code",
   "execution_count": 87,
   "metadata": {},
   "outputs": [],
   "source": [
    "std_Na22=4.25"
   ]
  },
  {
   "cell_type": "code",
   "execution_count": 88,
   "metadata": {},
   "outputs": [],
   "source": [
    "Area_Na22=67500"
   ]
  },
  {
   "cell_type": "code",
   "execution_count": 89,
   "metadata": {},
   "outputs": [],
   "source": [
    "p0_Na22=[mean_Na22,std_Na22,Area_Na22]"
   ]
  },
  {
   "cell_type": "code",
   "execution_count": 90,
   "metadata": {},
   "outputs": [],
   "source": [
    "x5= (bins5[:-1] + bins5[1:]) / 2"
   ]
  },
  {
   "cell_type": "code",
   "execution_count": 91,
   "metadata": {},
   "outputs": [],
   "source": [
    "param7, param_cov7=curve_fit(fx,x5,n5,p0_Na22)"
   ]
  },
  {
   "cell_type": "code",
   "execution_count": 92,
   "metadata": {},
   "outputs": [
    {
     "data": {
      "text/plain": [
       "array([8.33844422e+02, 1.21306802e+01, 9.60833406e+04])"
      ]
     },
     "execution_count": 92,
     "metadata": {},
     "output_type": "execute_result"
    }
   ],
   "source": [
    "param7"
   ]
  },
  {
   "cell_type": "code",
   "execution_count": 93,
   "metadata": {},
   "outputs": [
    {
     "data": {
      "text/plain": [
       "array([[ 2.35600442e+00, -2.57864361e-06, -5.16189883e-03],\n",
       "       [-2.57864361e-06,  2.35600581e+00,  9.33034671e+03],\n",
       "       [-5.16189883e-03,  9.33034671e+03,  1.10851177e+08]])"
      ]
     },
     "execution_count": 93,
     "metadata": {},
     "output_type": "execute_result"
    }
   ],
   "source": [
    "param_cov7"
   ]
  },
  {
   "cell_type": "code",
   "execution_count": 94,
   "metadata": {},
   "outputs": [],
   "source": [
    "y_fit7=fx(x5,param7[0],param7[1],param7[2])"
   ]
  },
  {
   "cell_type": "code",
   "execution_count": 95,
   "metadata": {},
   "outputs": [
    {
     "data": {
      "image/png": "[encoded data removed]",
      "text/plain": [
       "<Figure size 432x288 with 1 Axes>"
      ]
     },
     "metadata": {
      "needs_background": "light"
     },
     "output_type": "display_data"
    }
   ],
   "source": [
    "plt.plot(x5,n5, label='Data')\n",
    "plt.plot(x5,y_fit7,label='Fit')\n",
    "plt.title(\"Gaussian Fit of Na22(511 keV)\")\n",
    "plt.xlabel(\"Channel Number\")\n",
    "plt.ylabel(\"Event Counts\")\n",
    "plt.legend\n",
    "plt.savefig(\"Gaussian Fit of Na22 (511keV).jpg\")"
   ]
  },
  {
   "cell_type": "code",
   "execution_count": 96,
   "metadata": {},
   "outputs": [],
   "source": [
    "Cs137=pd.read_csv(\"GRAPE2019_Jun_02_22_08_45_17_.dat.tdms_formatted_data_edit.csv\")"
   ]
  },
  {
   "cell_type": "code",
   "execution_count": 97,
   "metadata": {},
   "outputs": [
    {
     "data": {
      "image/png": "[encoded data removed]",
      "text/plain": [
       "<Figure size 432x288 with 1 Axes>"
      ]
     },
     "metadata": {
      "needs_background": "light"
     },
     "output_type": "display_data"
    }
   ],
   "source": [
    "n6, bins6, patches6=plt.hist(Cs137['LaBr'], bins=220, range=(0,1100))"
   ]
  },
  {
   "cell_type": "code",
   "execution_count": 98,
   "metadata": {},
   "outputs": [],
   "source": [
    "mean_Cs137_1st=148"
   ]
  },
  {
   "cell_type": "code",
   "execution_count": 99,
   "metadata": {},
   "outputs": [],
   "source": [
    "std_Cs137_1st=3.40"
   ]
  },
  {
   "cell_type": "code",
   "execution_count": 100,
   "metadata": {},
   "outputs": [],
   "source": [
    "Area_Cs137_1st=12937.5"
   ]
  },
  {
   "cell_type": "code",
   "execution_count": 101,
   "metadata": {},
   "outputs": [],
   "source": [
    "p0_Cs137_1st=[mean_Cs137_1st,std_Cs137_1st,Area_Cs137_1st]"
   ]
  },
  {
   "cell_type": "code",
   "execution_count": 102,
   "metadata": {},
   "outputs": [],
   "source": [
    "x6= (bins6[:-1] + bins6[1:]) / 2"
   ]
  },
  {
   "cell_type": "code",
   "execution_count": 103,
   "metadata": {},
   "outputs": [],
   "source": [
    "param8, param_cov8=curve_fit(fx,x6,n6,p0_Cs137_1st)"
   ]
  },
  {
   "cell_type": "code",
   "execution_count": 104,
   "metadata": {},
   "outputs": [
    {
     "data": {
      "text/plain": [
       "array([1.46215537e+02, 8.36169749e+00, 1.67222552e+04])"
      ]
     },
     "execution_count": 104,
     "metadata": {},
     "output_type": "execute_result"
    }
   ],
   "source": [
    "param8"
   ]
  },
  {
   "cell_type": "code",
   "execution_count": 105,
   "metadata": {},
   "outputs": [
    {
     "data": {
      "text/plain": [
       "array([[ 2.30302220e+00, -2.99656601e-07, -1.70984894e-06],\n",
       "       [-2.99656601e-07,  2.30302230e+00,  2.30311938e+03],\n",
       "       [-1.70984894e-06,  2.30311938e+03,  6.90964938e+06]])"
      ]
     },
     "execution_count": 105,
     "metadata": {},
     "output_type": "execute_result"
    }
   ],
   "source": [
    "param_cov8"
   ]
  },
  {
   "cell_type": "code",
   "execution_count": 106,
   "metadata": {},
   "outputs": [],
   "source": [
    "y_fit8=fx(x6,param8[0],param8[1],param8[2])"
   ]
  },
  {
   "cell_type": "code",
   "execution_count": 107,
   "metadata": {},
   "outputs": [
    {
     "data": {
      "image/png": "[encoded data removed]",
      "text/plain": [
       "<Figure size 432x288 with 1 Axes>"
      ]
     },
     "metadata": {
      "needs_background": "light"
     },
     "output_type": "display_data"
    }
   ],
   "source": [
    "plt.plot(x6,n6, label='Data')\n",
    "plt.plot(x6,y_fit8,label='Fit')\n",
    "plt.title(\"Gaussian Fit of Cs137(32 keV)\")\n",
    "plt.xlabel(\"Channel Number\")\n",
    "plt.ylabel(\"Event Counts\")\n",
    "plt.legend\n",
    "plt.savefig(\"Gaussian Fit of Cs137 (32keV).jpg\")"
   ]
  },
  {
   "cell_type": "code",
   "execution_count": 108,
   "metadata": {},
   "outputs": [],
   "source": [
    "mean_Cs137_661=990"
   ]
  },
  {
   "cell_type": "code",
   "execution_count": 109,
   "metadata": {},
   "outputs": [],
   "source": [
    "std_Cs137_661=6.37"
   ]
  },
  {
   "cell_type": "code",
   "execution_count": 110,
   "metadata": {},
   "outputs": [],
   "source": [
    "Area_Cs137_661=22500"
   ]
  },
  {
   "cell_type": "code",
   "execution_count": 111,
   "metadata": {},
   "outputs": [],
   "source": [
    "p0_Cs137_661=[mean_Cs137_661,std_Cs137_661,Area_Cs137_661]"
   ]
  },
  {
   "cell_type": "code",
   "execution_count": 112,
   "metadata": {},
   "outputs": [],
   "source": [
    "param9, param_cov9=curve_fit(fx,x6,n6,p0_Cs137_661)"
   ]
  },
  {
   "cell_type": "code",
   "execution_count": 113,
   "metadata": {},
   "outputs": [
    {
     "data": {
      "text/plain": [
       "array([9.94575671e+02, 1.16398951e+01, 2.35384996e+04])"
      ]
     },
     "execution_count": 113,
     "metadata": {},
     "output_type": "execute_result"
    }
   ],
   "source": [
    "param9"
   ]
  },
  {
   "cell_type": "code",
   "execution_count": 114,
   "metadata": {},
   "outputs": [
    {
     "data": {
      "text/plain": [
       "array([[ 2.76557199e+00, -1.73648506e-06,  3.05499205e-05],\n",
       "       [-1.73648506e-06,  2.76557209e+00,  2.79625678e+03],\n",
       "       [ 3.05499205e-05,  2.79625678e+03,  8.48184559e+06]])"
      ]
     },
     "execution_count": 114,
     "metadata": {},
     "output_type": "execute_result"
    }
   ],
   "source": [
    "param_cov9"
   ]
  },
  {
   "cell_type": "code",
   "execution_count": 115,
   "metadata": {},
   "outputs": [],
   "source": [
    "y_fit9=fx(x6,param9[0],param9[1],param9[2])"
   ]
  },
  {
   "cell_type": "code",
   "execution_count": 116,
   "metadata": {},
   "outputs": [
    {
     "data": {
      "image/png": "[encoded data removed]",
      "text/plain": [
       "<Figure size 432x288 with 1 Axes>"
      ]
     },
     "metadata": {
      "needs_background": "light"
     },
     "output_type": "display_data"
    }
   ],
   "source": [
    "plt.plot(x6,n6, label='Data')\n",
    "plt.plot(x6,y_fit9,label='Fit')\n",
    "plt.title(\"Gaussian Fit of Cs137(661 keV)\")\n",
    "plt.xlabel(\"Channel Number\")\n",
    "plt.ylabel(\"Event Counts\")\n",
    "plt.legend\n",
    "plt.savefig(\"Gaussian Fit of Cs137 (661keV).jpg\")"
   ]
  },
  {
   "cell_type": "code",
   "execution_count": 117,
   "metadata": {},
   "outputs": [],
   "source": [
    "Energy=[22.1,30.85,32.66,59.54,80.99,88.03,122.06,511.01,661.66]"
   ]
  },
  {
   "cell_type": "code",
   "execution_count": 118,
   "metadata": {},
   "outputs": [],
   "source": [
    "Energy_Low=[22.1,30.85,32.66,59.54,80.99,88.03,122.06]"
   ]
  },
  {
   "cell_type": "code",
   "execution_count": 119,
   "metadata": {},
   "outputs": [],
   "source": [
    "Energy_extended=[22.1,30.85,32.66,59.54,80.99,88.03,122.06,800]"
   ]
  },
  {
   "cell_type": "code",
   "execution_count": 120,
   "metadata": {},
   "outputs": [],
   "source": [
    "Channel_Num=[132.95,144.23,146.22,184.60,217.92,237.07,285.45,833.84,994.58]"
   ]
  },
  {
   "cell_type": "code",
   "execution_count": 121,
   "metadata": {},
   "outputs": [],
   "source": [
    "Channel_Num_Low=[132.95,144.23,146.22,184.60,217.92,237.07,285.45]"
   ]
  },
  {
   "cell_type": "code",
   "execution_count": 122,
   "metadata": {},
   "outputs": [],
   "source": [
    "Channel_Num_extended=[132.95,144.23,146.22,184.60,217.92,237.07,285.45,1336.29]"
   ]
  },
  {
   "cell_type": "code",
   "execution_count": 123,
   "metadata": {},
   "outputs": [],
   "source": [
    "Error_array=[1.09,2.18,2.36,1.08,2.68,1.52,1.54,1.52,1.66]"
   ]
  },
  {
   "cell_type": "code",
   "execution_count": 124,
   "metadata": {},
   "outputs": [],
   "source": [
    "Error_array_Low=[1.09,2.18,2.36,1.08,2.68,1.52,1.54]"
   ]
  },
  {
   "cell_type": "code",
   "execution_count": 125,
   "metadata": {},
   "outputs": [],
   "source": [
    "param_line, param_cov_line=curve_fit(fline,Energy,Channel_Num,[0,1])"
   ]
  },
  {
   "cell_type": "code",
   "execution_count": 126,
   "metadata": {},
   "outputs": [],
   "source": [
    "param_line_low, param_cov_line_low=curve_fit(fline,Energy_Low,Channel_Num_Low,[0,1])"
   ]
  },
  {
   "cell_type": "code",
   "execution_count": 127,
   "metadata": {},
   "outputs": [],
   "source": [
    "param_line_extended, param_cov_line_extended=curve_fit(fline,Energy_extended,Channel_Num_extended,[0,1])"
   ]
  },
  {
   "cell_type": "code",
   "execution_count": 128,
   "metadata": {},
   "outputs": [],
   "source": [
    "Energy_arr=np.array(Energy)"
   ]
  },
  {
   "cell_type": "code",
   "execution_count": 129,
   "metadata": {},
   "outputs": [],
   "source": [
    "Energy_arr_low=np.array(Energy_Low)"
   ]
  },
  {
   "cell_type": "code",
   "execution_count": 130,
   "metadata": {},
   "outputs": [],
   "source": [
    "Energy_arr_extended=np.array(Energy_extended)"
   ]
  },
  {
   "cell_type": "code",
   "execution_count": 131,
   "metadata": {},
   "outputs": [
    {
     "data": {
      "text/plain": [
       "array([  1.37218649, 107.68323995])"
      ]
     },
     "execution_count": 131,
     "metadata": {},
     "output_type": "execute_result"
    }
   ],
   "source": [
    "param_line"
   ]
  },
  {
   "cell_type": "code",
   "execution_count": 132,
   "metadata": {},
   "outputs": [
    {
     "data": {
      "text/plain": [
       "array([ 1.5459833 , 96.29081474])"
      ]
     },
     "execution_count": 132,
     "metadata": {},
     "output_type": "execute_result"
    }
   ],
   "source": [
    "param_line_low"
   ]
  },
  {
   "cell_type": "code",
   "execution_count": 133,
   "metadata": {},
   "outputs": [
    {
     "data": {
      "text/plain": [
       "array([[ 4.37126329e-04, -7.81436171e-02],\n",
       "       [-7.81436171e-02,  3.56590313e+01]])"
      ]
     },
     "execution_count": 133,
     "metadata": {},
     "output_type": "execute_result"
    }
   ],
   "source": [
    "param_cov_line"
   ]
  },
  {
   "cell_type": "code",
   "execution_count": 134,
   "metadata": {},
   "outputs": [
    {
     "data": {
      "text/plain": [
       "array([[ 1.37616933e-03, -8.57609069e-02],\n",
       "       [-8.57609069e-02,  6.93178936e+00]])"
      ]
     },
     "execution_count": 134,
     "metadata": {},
     "output_type": "execute_result"
    }
   ],
   "source": [
    "param_cov_line_low"
   ]
  },
  {
   "cell_type": "code",
   "execution_count": 135,
   "metadata": {},
   "outputs": [
    {
     "data": {
      "text/plain": [
       "array([ 1.55026561, 96.03064331])"
      ]
     },
     "execution_count": 135,
     "metadata": {},
     "output_type": "execute_result"
    }
   ],
   "source": [
    "param_line_extended"
   ]
  },
  {
   "cell_type": "code",
   "execution_count": 136,
   "metadata": {},
   "outputs": [
    {
     "data": {
      "text/plain": [
       "array([[ 1.91734818e-05, -2.96285419e-03],\n",
       "       [-2.96285419e-03,  1.61838362e+00]])"
      ]
     },
     "execution_count": 136,
     "metadata": {},
     "output_type": "execute_result"
    }
   ],
   "source": [
    "param_cov_line_extended"
   ]
  },
  {
   "cell_type": "code",
   "execution_count": 137,
   "metadata": {},
   "outputs": [],
   "source": [
    "y_fit_line=fline(Energy_arr,param_line[0],param_line[1])"
   ]
  },
  {
   "cell_type": "code",
   "execution_count": null,
   "metadata": {},
   "outputs": [],
   "source": []
  },
  {
   "cell_type": "code",
   "execution_count": 138,
   "metadata": {},
   "outputs": [
    {
     "data": {
      "text/plain": [
       "array([ 138.00856133,  150.0151931 ,  152.49885065,  189.38322344,\n",
       "        218.81662361,  228.47681649,  275.17232267,  808.88425717,\n",
       "       1015.60415159])"
      ]
     },
     "execution_count": 138,
     "metadata": {},
     "output_type": "execute_result"
    }
   ],
   "source": [
    "y_fit_line"
   ]
  },
  {
   "cell_type": "code",
   "execution_count": 139,
   "metadata": {},
   "outputs": [],
   "source": [
    "y_fit_line_low=fline(Energy_arr_low,param_line_low[0],param_line_low[1])"
   ]
  },
  {
   "cell_type": "code",
   "execution_count": 140,
   "metadata": {},
   "outputs": [
    {
     "data": {
      "text/plain": [
       "array([130.45704577, 143.98439968, 146.78262946, 188.33866068,\n",
       "       221.50000255, 232.38372501, 284.99353686])"
      ]
     },
     "execution_count": 140,
     "metadata": {},
     "output_type": "execute_result"
    }
   ],
   "source": [
    "y_fit_line_low"
   ]
  },
  {
   "cell_type": "code",
   "execution_count": 141,
   "metadata": {},
   "outputs": [],
   "source": [
    "y_fit_line_extended=fline(Energy_arr_extended,param_line_extended[0],param_line_extended[1])"
   ]
  },
  {
   "cell_type": "code",
   "execution_count": 142,
   "metadata": {},
   "outputs": [
    {
     "data": {
      "image/png": "[encoded data removed]",
      "text/plain": [
       "<Figure size 648x504 with 1 Axes>"
      ]
     },
     "metadata": {
      "needs_background": "light"
     },
     "output_type": "display_data"
    }
   ],
   "source": [
    "fig=plt.figure(figsize=(9,7))\n",
    "plt.plot(Energy,Channel_Num)\n",
    "plt.errorbar(Energy,Channel_Num,yerr=Error_array,fmt='o',color=\"red\")\n",
    "plt.title('Energy vs. Channel Number:LaBr',fontsize=20)\n",
    "plt.xlabel('Energy(keV)',fontsize=16)\n",
    "plt.ylabel('Channel Number',fontsize=16)\n",
    "plt.savefig(\"Energy vs. Channel Number LaBr.jpg\")"
   ]
  },
  {
   "cell_type": "code",
   "execution_count": 143,
   "metadata": {},
   "outputs": [
    {
     "data": {
      "image/png": "[encoded data removed]",
      "text/plain": [
       "<Figure size 648x504 with 1 Axes>"
      ]
     },
     "metadata": {
      "needs_background": "light"
     },
     "output_type": "display_data"
    }
   ],
   "source": [
    "fig=plt.figure(figsize=(9,7))\n",
    "plt.plot(Energy_arr,y_fit_line,color=\"orange\")\n",
    "plt.title('Energy Calibration Curve: LaBr3',fontsize=20)\n",
    "plt.xlabel('Energy(keV)',fontsize=16)\n",
    "plt.ylabel('Channel Number',fontsize=16)\n",
    "plt.savefig(\"Energy Calibration Curve LaBr3.jpg\")"
   ]
  },
  {
   "cell_type": "code",
   "execution_count": 144,
   "metadata": {},
   "outputs": [
    {
     "data": {
      "image/png": "[encoded data removed]",
      "text/plain": [
       "<Figure size 648x504 with 1 Axes>"
      ]
     },
     "metadata": {
      "needs_background": "light"
     },
     "output_type": "display_data"
    }
   ],
   "source": [
    "fig=plt.figure(figsize=(9,7))\n",
    "plt.plot(Energy_arr,y_fit_line,color=\"orange\")\n",
    "plt.errorbar(Energy,Channel_Num,yerr=Error_array,fmt='o',color=\"red\")\n",
    "plt.title('Energy Calibration Curve: LaBr3',fontsize=20)\n",
    "plt.xlabel('Energy(keV)',fontsize=16)\n",
    "plt.ylabel('Channel Number',fontsize=16)\n",
    "plt.savefig(\"Energy Calibration Curve LaBr3.jpg\")"
   ]
  },
  {
   "cell_type": "code",
   "execution_count": 145,
   "metadata": {},
   "outputs": [
    {
     "data": {
      "image/png": "[encoded data removed]",
      "text/plain": [
       "<Figure size 648x504 with 1 Axes>"
      ]
     },
     "metadata": {
      "needs_background": "light"
     },
     "output_type": "display_data"
    }
   ],
   "source": [
    "fig=plt.figure(figsize=(9,7))\n",
    "plt.plot(Energy_arr_low,y_fit_line_low,color=\"orange\")\n",
    "plt.errorbar(Energy_Low,Channel_Num_Low,yerr=Error_array_Low,fmt='o',color=\"red\")\n",
    "high_end_energy=[511.01,661.66]\n",
    "high_end_channel=[833.84,994.58]\n",
    "plt.scatter(high_end_energy,high_end_channel)\n",
    "plt.title('Low End Energy Calibration Curve: LaBr3',fontsize=20)\n",
    "plt.xlabel('Energy(keV)',fontsize=16)\n",
    "plt.ylabel('Channel Number',fontsize=16)\n",
    "plt.savefig(\"Low End Energy Calibration Curve LaBr3.jpg\")"
   ]
  },
  {
   "cell_type": "code",
   "execution_count": 146,
   "metadata": {},
   "outputs": [
    {
     "data": {
      "image/png": "[encoded data removed]",
      "text/plain": [
       "<Figure size 648x504 with 1 Axes>"
      ]
     },
     "metadata": {
      "needs_background": "light"
     },
     "output_type": "display_data"
    }
   ],
   "source": [
    "fig=plt.figure(figsize=(9,7))\n",
    "plt.plot(Energy_arr_low,y_fit_line_low,color=\"orange\")\n",
    "plt.errorbar(Energy_Low,Channel_Num_Low,yerr=Error_array_Low,fmt='o',color=\"red\")\n",
    "plt.title('Just the Low End Energy Calibration Curve: LaBr3',fontsize=20)\n",
    "plt.xlabel('Energy(keV)',fontsize=16)\n",
    "plt.ylabel('Channel Number',fontsize=16)\n",
    "plt.savefig(\"Just the Low End Energy Calibration Curve LaBr3.jpg\")"
   ]
  },
  {
   "cell_type": "code",
   "execution_count": 147,
   "metadata": {},
   "outputs": [
    {
     "data": {
      "image/png": "[encoded data removed]",
      "text/plain": [
       "<Figure size 648x504 with 1 Axes>"
      ]
     },
     "metadata": {
      "needs_background": "light"
     },
     "output_type": "display_data"
    }
   ],
   "source": [
    "fig=plt.figure(figsize=(9,7))\n",
    "plt.plot(Energy_arr_extended,y_fit_line_extended,color=\"orange\")\n",
    "high_end_energy=[511.01,661.66]\n",
    "high_end_channel=[833.84,994.58]\n",
    "plt.scatter(high_end_energy,high_end_channel)\n",
    "\n",
    "\n",
    "\n",
    "plt.title('Extended Low End Energy Calibration Curve: LaBr3',fontsize=18)\n",
    "plt.xlabel('Energy(keV)',fontsize=16)\n",
    "plt.ylabel('Channel Number',fontsize=16)\n",
    "plt.savefig(\"Extended Low End Calibration Curve LaBr3.jpg\")\n"
   ]
  },
  {
   "cell_type": "code",
   "execution_count": null,
   "metadata": {},
   "outputs": [],
   "source": []
  },
  {
   "cell_type": "code",
   "execution_count": 148,
   "metadata": {},
   "outputs": [],
   "source": [
    "test=pd.read_csv(\"GRAPE2019_Jun_02_22_08_30_54_.dat.tdms_formatted_data.txt\")"
   ]
  },
  {
   "cell_type": "code",
   "execution_count": 149,
   "metadata": {},
   "outputs": [
    {
     "data": {
      "text/html": [
       "<div>\n",
       "<style scoped>\n",
       "    .dataframe tbody tr th:only-of-type {\n",
       "        vertical-align: middle;\n",
       "    }\n",
       "\n",
       "    .dataframe tbody tr th {\n",
       "        vertical-align: top;\n",
       "    }\n",
       "\n",
       "    .dataframe thead th {\n",
       "        text-align: right;\n",
       "    }\n",
       "</style>\n",
       "<table border=\"1\" class=\"dataframe\">\n",
       "  <thead>\n",
       "    <tr style=\"text-align: right;\">\n",
       "      <th></th>\n",
       "      <th>125 166</th>\n",
       "    </tr>\n",
       "  </thead>\n",
       "  <tbody>\n",
       "    <tr>\n",
       "      <th>0</th>\n",
       "      <td>125 190</td>\n",
       "    </tr>\n",
       "    <tr>\n",
       "      <th>1</th>\n",
       "      <td>125 181</td>\n",
       "    </tr>\n",
       "    <tr>\n",
       "      <th>2</th>\n",
       "      <td>125 180</td>\n",
       "    </tr>\n",
       "    <tr>\n",
       "      <th>3</th>\n",
       "      <td>124 159</td>\n",
       "    </tr>\n",
       "    <tr>\n",
       "      <th>4</th>\n",
       "      <td>125 138</td>\n",
       "    </tr>\n",
       "    <tr>\n",
       "      <th>...</th>\n",
       "      <td>...</td>\n",
       "    </tr>\n",
       "    <tr>\n",
       "      <th>26298</th>\n",
       "      <td>125 189</td>\n",
       "    </tr>\n",
       "    <tr>\n",
       "      <th>26299</th>\n",
       "      <td>125 171</td>\n",
       "    </tr>\n",
       "    <tr>\n",
       "      <th>26300</th>\n",
       "      <td>125 1162</td>\n",
       "    </tr>\n",
       "    <tr>\n",
       "      <th>26301</th>\n",
       "      <td>124 186</td>\n",
       "    </tr>\n",
       "    <tr>\n",
       "      <th>26302</th>\n",
       "      <td>125 164</td>\n",
       "    </tr>\n",
       "  </tbody>\n",
       "</table>\n",
       "<p>26303 rows × 1 columns</p>\n",
       "</div>"
      ],
      "text/plain": [
       "        125 166 \n",
       "0       125 190 \n",
       "1       125 181 \n",
       "2       125 180 \n",
       "3       124 159 \n",
       "4       125 138 \n",
       "...          ...\n",
       "26298   125 189 \n",
       "26299   125 171 \n",
       "26300  125 1162 \n",
       "26301   124 186 \n",
       "26302   125 164 \n",
       "\n",
       "[26303 rows x 1 columns]"
      ]
     },
     "execution_count": 149,
     "metadata": {},
     "output_type": "execute_result"
    }
   ],
   "source": [
    "test"
   ]
  },
  {
   "cell_type": "code",
   "execution_count": 150,
   "metadata": {},
   "outputs": [
    {
     "name": "stdout",
     "output_type": "stream",
     "text": [
      "[['125 166 '], ['125 166 ']]\n"
     ]
    }
   ],
   "source": [
    "split=np.array_split(test,2)\n",
    "split_items=[]\n",
    "for i in split:\n",
    "    split_items.append(list(i))\n",
    "print(split_items)"
   ]
  },
  {
   "cell_type": "code",
   "execution_count": null,
   "metadata": {},
   "outputs": [],
   "source": []
  },
  {
   "cell_type": "code",
   "execution_count": 151,
   "metadata": {},
   "outputs": [],
   "source": [
    "new_test=test.shift(1)"
   ]
  },
  {
   "cell_type": "code",
   "execution_count": 152,
   "metadata": {},
   "outputs": [
    {
     "data": {
      "text/html": [
       "<div>\n",
       "<style scoped>\n",
       "    .dataframe tbody tr th:only-of-type {\n",
       "        vertical-align: middle;\n",
       "    }\n",
       "\n",
       "    .dataframe tbody tr th {\n",
       "        vertical-align: top;\n",
       "    }\n",
       "\n",
       "    .dataframe thead th {\n",
       "        text-align: right;\n",
       "    }\n",
       "</style>\n",
       "<table border=\"1\" class=\"dataframe\">\n",
       "  <thead>\n",
       "    <tr style=\"text-align: right;\">\n",
       "      <th></th>\n",
       "      <th>125 166</th>\n",
       "    </tr>\n",
       "  </thead>\n",
       "  <tbody>\n",
       "    <tr>\n",
       "      <th>0</th>\n",
       "      <td>NaN</td>\n",
       "    </tr>\n",
       "    <tr>\n",
       "      <th>1</th>\n",
       "      <td>125 190</td>\n",
       "    </tr>\n",
       "    <tr>\n",
       "      <th>2</th>\n",
       "      <td>125 181</td>\n",
       "    </tr>\n",
       "    <tr>\n",
       "      <th>3</th>\n",
       "      <td>125 180</td>\n",
       "    </tr>\n",
       "    <tr>\n",
       "      <th>4</th>\n",
       "      <td>124 159</td>\n",
       "    </tr>\n",
       "    <tr>\n",
       "      <th>...</th>\n",
       "      <td>...</td>\n",
       "    </tr>\n",
       "    <tr>\n",
       "      <th>26298</th>\n",
       "      <td>125 185</td>\n",
       "    </tr>\n",
       "    <tr>\n",
       "      <th>26299</th>\n",
       "      <td>125 189</td>\n",
       "    </tr>\n",
       "    <tr>\n",
       "      <th>26300</th>\n",
       "      <td>125 171</td>\n",
       "    </tr>\n",
       "    <tr>\n",
       "      <th>26301</th>\n",
       "      <td>125 1162</td>\n",
       "    </tr>\n",
       "    <tr>\n",
       "      <th>26302</th>\n",
       "      <td>124 186</td>\n",
       "    </tr>\n",
       "  </tbody>\n",
       "</table>\n",
       "<p>26303 rows × 1 columns</p>\n",
       "</div>"
      ],
      "text/plain": [
       "        125 166 \n",
       "0            NaN\n",
       "1       125 190 \n",
       "2       125 181 \n",
       "3       125 180 \n",
       "4       124 159 \n",
       "...          ...\n",
       "26298   125 185 \n",
       "26299   125 189 \n",
       "26300   125 171 \n",
       "26301  125 1162 \n",
       "26302   124 186 \n",
       "\n",
       "[26303 rows x 1 columns]"
      ]
     },
     "execution_count": 152,
     "metadata": {},
     "output_type": "execute_result"
    }
   ],
   "source": [
    "new_test"
   ]
  },
  {
   "cell_type": "code",
   "execution_count": 153,
   "metadata": {},
   "outputs": [
    {
     "data": {
      "text/html": [
       "<div>\n",
       "<style scoped>\n",
       "    .dataframe tbody tr th:only-of-type {\n",
       "        vertical-align: middle;\n",
       "    }\n",
       "\n",
       "    .dataframe tbody tr th {\n",
       "        vertical-align: top;\n",
       "    }\n",
       "\n",
       "    .dataframe thead th {\n",
       "        text-align: right;\n",
       "    }\n",
       "</style>\n",
       "<table border=\"1\" class=\"dataframe\">\n",
       "  <thead>\n",
       "    <tr style=\"text-align: right;\">\n",
       "      <th></th>\n",
       "      <th>125 166</th>\n",
       "    </tr>\n",
       "  </thead>\n",
       "  <tbody>\n",
       "    <tr>\n",
       "      <th>0</th>\n",
       "      <td>NaN</td>\n",
       "    </tr>\n",
       "    <tr>\n",
       "      <th>1</th>\n",
       "      <td>125 190</td>\n",
       "    </tr>\n",
       "    <tr>\n",
       "      <th>2</th>\n",
       "      <td>125 181</td>\n",
       "    </tr>\n",
       "    <tr>\n",
       "      <th>3</th>\n",
       "      <td>125 180</td>\n",
       "    </tr>\n",
       "    <tr>\n",
       "      <th>4</th>\n",
       "      <td>124 159</td>\n",
       "    </tr>\n",
       "    <tr>\n",
       "      <th>...</th>\n",
       "      <td>...</td>\n",
       "    </tr>\n",
       "    <tr>\n",
       "      <th>26298</th>\n",
       "      <td>125 185</td>\n",
       "    </tr>\n",
       "    <tr>\n",
       "      <th>26299</th>\n",
       "      <td>125 189</td>\n",
       "    </tr>\n",
       "    <tr>\n",
       "      <th>26300</th>\n",
       "      <td>125 171</td>\n",
       "    </tr>\n",
       "    <tr>\n",
       "      <th>26301</th>\n",
       "      <td>125 1162</td>\n",
       "    </tr>\n",
       "    <tr>\n",
       "      <th>26302</th>\n",
       "      <td>124 186</td>\n",
       "    </tr>\n",
       "  </tbody>\n",
       "</table>\n",
       "<p>26303 rows × 1 columns</p>\n",
       "</div>"
      ],
      "text/plain": [
       "        125 166 \n",
       "0            NaN\n",
       "1       125 190 \n",
       "2       125 181 \n",
       "3       125 180 \n",
       "4       124 159 \n",
       "...          ...\n",
       "26298   125 185 \n",
       "26299   125 189 \n",
       "26300   125 171 \n",
       "26301  125 1162 \n",
       "26302   124 186 \n",
       "\n",
       "[26303 rows x 1 columns]"
      ]
     },
     "execution_count": 153,
     "metadata": {},
     "output_type": "execute_result"
    }
   ],
   "source": [
    "new_test"
   ]
  },
  {
   "cell_type": "code",
   "execution_count": 154,
   "metadata": {},
   "outputs": [],
   "source": [
    "index=test.index\n",
    "index.name=\"Plastic LaBr3\""
   ]
  },
  {
   "cell_type": "code",
   "execution_count": 155,
   "metadata": {},
   "outputs": [
    {
     "data": {
      "text/html": [
       "<div>\n",
       "<style scoped>\n",
       "    .dataframe tbody tr th:only-of-type {\n",
       "        vertical-align: middle;\n",
       "    }\n",
       "\n",
       "    .dataframe tbody tr th {\n",
       "        vertical-align: top;\n",
       "    }\n",
       "\n",
       "    .dataframe thead th {\n",
       "        text-align: right;\n",
       "    }\n",
       "</style>\n",
       "<table border=\"1\" class=\"dataframe\">\n",
       "  <thead>\n",
       "    <tr style=\"text-align: right;\">\n",
       "      <th></th>\n",
       "      <th>125 166</th>\n",
       "    </tr>\n",
       "    <tr>\n",
       "      <th>Plastic LaBr3</th>\n",
       "      <th></th>\n",
       "    </tr>\n",
       "  </thead>\n",
       "  <tbody>\n",
       "    <tr>\n",
       "      <th>0</th>\n",
       "      <td>125 190</td>\n",
       "    </tr>\n",
       "    <tr>\n",
       "      <th>1</th>\n",
       "      <td>125 181</td>\n",
       "    </tr>\n",
       "    <tr>\n",
       "      <th>2</th>\n",
       "      <td>125 180</td>\n",
       "    </tr>\n",
       "    <tr>\n",
       "      <th>3</th>\n",
       "      <td>124 159</td>\n",
       "    </tr>\n",
       "    <tr>\n",
       "      <th>4</th>\n",
       "      <td>125 138</td>\n",
       "    </tr>\n",
       "    <tr>\n",
       "      <th>...</th>\n",
       "      <td>...</td>\n",
       "    </tr>\n",
       "    <tr>\n",
       "      <th>26298</th>\n",
       "      <td>125 189</td>\n",
       "    </tr>\n",
       "    <tr>\n",
       "      <th>26299</th>\n",
       "      <td>125 171</td>\n",
       "    </tr>\n",
       "    <tr>\n",
       "      <th>26300</th>\n",
       "      <td>125 1162</td>\n",
       "    </tr>\n",
       "    <tr>\n",
       "      <th>26301</th>\n",
       "      <td>124 186</td>\n",
       "    </tr>\n",
       "    <tr>\n",
       "      <th>26302</th>\n",
       "      <td>125 164</td>\n",
       "    </tr>\n",
       "  </tbody>\n",
       "</table>\n",
       "<p>26303 rows × 1 columns</p>\n",
       "</div>"
      ],
      "text/plain": [
       "                125 166 \n",
       "Plastic LaBr3           \n",
       "0               125 190 \n",
       "1               125 181 \n",
       "2               125 180 \n",
       "3               124 159 \n",
       "4               125 138 \n",
       "...                  ...\n",
       "26298           125 189 \n",
       "26299           125 171 \n",
       "26300          125 1162 \n",
       "26301           124 186 \n",
       "26302           125 164 \n",
       "\n",
       "[26303 rows x 1 columns]"
      ]
     },
     "execution_count": 155,
     "metadata": {},
     "output_type": "execute_result"
    }
   ],
   "source": [
    "test"
   ]
  },
  {
   "cell_type": "code",
   "execution_count": 156,
   "metadata": {},
   "outputs": [
    {
     "ename": "AttributeError",
     "evalue": "'DataFrame' object has no attribute 'split'",
     "output_type": "error",
     "traceback": [
      "\u001b[1;31m---------------------------------------------------------------------------\u001b[0m",
      "\u001b[1;31mAttributeError\u001b[0m                            Traceback (most recent call last)",
      "\u001b[1;32m<ipython-input-156-e32748fe9e73>\u001b[0m in \u001b[0;36m<module>\u001b[1;34m\u001b[0m\n\u001b[1;32m----> 1\u001b[1;33m \u001b[0mtest\u001b[0m\u001b[1;33m.\u001b[0m\u001b[0msplit\u001b[0m\u001b[1;33m(\u001b[0m\u001b[0mexpand\u001b[0m\u001b[1;33m=\u001b[0m\u001b[1;32mTrue\u001b[0m\u001b[1;33m)\u001b[0m\u001b[1;33m\u001b[0m\u001b[1;33m\u001b[0m\u001b[0m\n\u001b[0m",
      "\u001b[1;32m~\\anaconda3\\lib\\site-packages\\pandas\\core\\generic.py\u001b[0m in \u001b[0;36m__getattr__\u001b[1;34m(self, name)\u001b[0m\n\u001b[0;32m   5137\u001b[0m             \u001b[1;32mif\u001b[0m \u001b[0mself\u001b[0m\u001b[1;33m.\u001b[0m\u001b[0m_info_axis\u001b[0m\u001b[1;33m.\u001b[0m\u001b[0m_can_hold_identifiers_and_holds_name\u001b[0m\u001b[1;33m(\u001b[0m\u001b[0mname\u001b[0m\u001b[1;33m)\u001b[0m\u001b[1;33m:\u001b[0m\u001b[1;33m\u001b[0m\u001b[1;33m\u001b[0m\u001b[0m\n\u001b[0;32m   5138\u001b[0m                 \u001b[1;32mreturn\u001b[0m \u001b[0mself\u001b[0m\u001b[1;33m[\u001b[0m\u001b[0mname\u001b[0m\u001b[1;33m]\u001b[0m\u001b[1;33m\u001b[0m\u001b[1;33m\u001b[0m\u001b[0m\n\u001b[1;32m-> 5139\u001b[1;33m             \u001b[1;32mreturn\u001b[0m \u001b[0mobject\u001b[0m\u001b[1;33m.\u001b[0m\u001b[0m__getattribute__\u001b[0m\u001b[1;33m(\u001b[0m\u001b[0mself\u001b[0m\u001b[1;33m,\u001b[0m \u001b[0mname\u001b[0m\u001b[1;33m)\u001b[0m\u001b[1;33m\u001b[0m\u001b[1;33m\u001b[0m\u001b[0m\n\u001b[0m\u001b[0;32m   5140\u001b[0m \u001b[1;33m\u001b[0m\u001b[0m\n\u001b[0;32m   5141\u001b[0m     \u001b[1;32mdef\u001b[0m \u001b[0m__setattr__\u001b[0m\u001b[1;33m(\u001b[0m\u001b[0mself\u001b[0m\u001b[1;33m,\u001b[0m \u001b[0mname\u001b[0m\u001b[1;33m:\u001b[0m \u001b[0mstr\u001b[0m\u001b[1;33m,\u001b[0m \u001b[0mvalue\u001b[0m\u001b[1;33m)\u001b[0m \u001b[1;33m->\u001b[0m \u001b[1;32mNone\u001b[0m\u001b[1;33m:\u001b[0m\u001b[1;33m\u001b[0m\u001b[1;33m\u001b[0m\u001b[0m\n",
      "\u001b[1;31mAttributeError\u001b[0m: 'DataFrame' object has no attribute 'split'"
     ]
    }
   ],
   "source": [
    "test.split(expand=True)"
   ]
  },
  {
   "cell_type": "code",
   "execution_count": 157,
   "metadata": {},
   "outputs": [
    {
     "data": {
      "text/plain": [
       "pandas.core.frame.DataFrame"
      ]
     },
     "execution_count": 157,
     "metadata": {},
     "output_type": "execute_result"
    }
   ],
   "source": [
    "type(test)"
   ]
  },
  {
   "cell_type": "code",
   "execution_count": null,
   "metadata": {},
   "outputs": [],
   "source": []
  },
  {
   "cell_type": "code",
   "execution_count": null,
   "metadata": {},
   "outputs": [],
   "source": []
  },
  {
   "cell_type": "code",
   "execution_count": null,
   "metadata": {},
   "outputs": [],
   "source": []
  },
  {
   "cell_type": "code",
   "execution_count": 158,
   "metadata": {},
   "outputs": [],
   "source": [
    "Cd109_New=pd.read_csv(\"GRAPE2019_Aug_08_22_12_00_05_.dat.tdms_formatted_data_edit.csv\")"
   ]
  },
  {
   "cell_type": "code",
   "execution_count": null,
   "metadata": {},
   "outputs": [],
   "source": []
  },
  {
   "cell_type": "code",
   "execution_count": 159,
   "metadata": {},
   "outputs": [
    {
     "data": {
      "image/png": "[encoded data removed]",
      "text/plain": [
       "<Figure size 432x288 with 1 Axes>"
      ]
     },
     "metadata": {
      "needs_background": "light"
     },
     "output_type": "display_data"
    }
   ],
   "source": [
    "n10, bins10, patches10=plt.hist(Cd109_New['LaBr3'], bins=100, range=(50,350))"
   ]
  },
  {
   "cell_type": "code",
   "execution_count": 160,
   "metadata": {},
   "outputs": [],
   "source": [
    "x10 = (bins10[:-1] + bins10[1:]) / 2"
   ]
  },
  {
   "cell_type": "code",
   "execution_count": 161,
   "metadata": {},
   "outputs": [],
   "source": [
    "mean_cd109_new_22=125"
   ]
  },
  {
   "cell_type": "code",
   "execution_count": 162,
   "metadata": {},
   "outputs": [],
   "source": [
    "std_cd109_new_22=1.49"
   ]
  },
  {
   "cell_type": "code",
   "execution_count": 163,
   "metadata": {},
   "outputs": [],
   "source": [
    "Area_cd109_new_22=6500"
   ]
  },
  {
   "cell_type": "code",
   "execution_count": 164,
   "metadata": {},
   "outputs": [],
   "source": [
    "p0_cd109_new_22=[mean_cd109_new_22,std_cd109_new_22,Area_cd109_new_22]"
   ]
  },
  {
   "cell_type": "code",
   "execution_count": 165,
   "metadata": {},
   "outputs": [],
   "source": [
    "param10, param_cov10=curve_fit(fx,x10[23:30],n10[23:30],p0_cd109_new_22)"
   ]
  },
  {
   "cell_type": "code",
   "execution_count": 166,
   "metadata": {},
   "outputs": [
    {
     "data": {
      "text/plain": [
       "array([1.26995329e+02, 5.36999918e+00, 7.29734834e+03])"
      ]
     },
     "execution_count": 166,
     "metadata": {},
     "output_type": "execute_result"
    }
   ],
   "source": [
    "param10"
   ]
  },
  {
   "cell_type": "code",
   "execution_count": 167,
   "metadata": {},
   "outputs": [
    {
     "data": {
      "text/plain": [
       "array([[ 6.54459092e-01, -1.46763454e-01, -1.33608501e+02],\n",
       "       [-1.46763454e-01,  8.27158355e-01,  6.19353119e+02],\n",
       "       [-1.33608501e+02,  6.19353119e+02,  9.90489144e+05]])"
      ]
     },
     "execution_count": 167,
     "metadata": {},
     "output_type": "execute_result"
    }
   ],
   "source": [
    "param_cov10"
   ]
  },
  {
   "cell_type": "code",
   "execution_count": 168,
   "metadata": {},
   "outputs": [],
   "source": [
    "y_fit10=fx(x10,param10[0],param10[1],param10[2])"
   ]
  },
  {
   "cell_type": "code",
   "execution_count": 169,
   "metadata": {},
   "outputs": [
    {
     "data": {
      "text/plain": [
       "<function matplotlib.pyplot.legend(*args, **kwargs)>"
      ]
     },
     "execution_count": 169,
     "metadata": {},
     "output_type": "execute_result"
    },
    {
     "data": {
      "image/png": "[encoded data removed]",
      "text/plain": [
       "<Figure size 432x288 with 1 Axes>"
      ]
     },
     "metadata": {
      "needs_background": "light"
     },
     "output_type": "display_data"
    }
   ],
   "source": [
    "n10, bins10, patches10=plt.hist(Cd109_New['LaBr3'], bins=100, range=(50,350))\n",
    "plt.plot(x10[23:30],y_fit10[23:30],label='Fit')\n",
    "plt.title(\"Gaussian Fit of New Cd109 (22 keV)\")\n",
    "plt.xlabel(\"Channel Number\")\n",
    "plt.ylabel(\"Event Counts\")\n",
    "plt.legend"
   ]
  },
  {
   "cell_type": "code",
   "execution_count": 170,
   "metadata": {},
   "outputs": [],
   "source": [
    "mean_cd109_new_88=225"
   ]
  },
  {
   "cell_type": "code",
   "execution_count": 171,
   "metadata": {},
   "outputs": [],
   "source": [
    "std_cd109_new_88=3.19"
   ]
  },
  {
   "cell_type": "code",
   "execution_count": 172,
   "metadata": {},
   "outputs": [],
   "source": [
    "Area_cd109_new_88=6000"
   ]
  },
  {
   "cell_type": "code",
   "execution_count": 173,
   "metadata": {},
   "outputs": [],
   "source": [
    "p0_cd109_new_88=[mean_cd109_new_88,std_cd109_new_88,Area_cd109_new_88]"
   ]
  },
  {
   "cell_type": "code",
   "execution_count": 174,
   "metadata": {},
   "outputs": [],
   "source": [
    "param11, param_cov11=curve_fit(fx,x10[55:65],n10[55:65],p0_cd109_new_88)"
   ]
  },
  {
   "cell_type": "code",
   "execution_count": 175,
   "metadata": {},
   "outputs": [
    {
     "data": {
      "text/plain": [
       "array([2.27665963e+02, 1.42925306e+01, 1.48642167e+04])"
      ]
     },
     "execution_count": 175,
     "metadata": {},
     "output_type": "execute_result"
    }
   ],
   "source": [
    "param11"
   ]
  },
  {
   "cell_type": "code",
   "execution_count": 176,
   "metadata": {},
   "outputs": [
    {
     "data": {
      "text/plain": [
       "array([[ 5.90986111e-01, -3.89304656e-01, -3.40227987e+02],\n",
       "       [-3.89304656e-01,  1.69438639e+00,  1.31046195e+03],\n",
       "       [-3.40227987e+02,  1.31046195e+03,  1.16193376e+06]])"
      ]
     },
     "execution_count": 176,
     "metadata": {},
     "output_type": "execute_result"
    }
   ],
   "source": [
    "param_cov11"
   ]
  },
  {
   "cell_type": "code",
   "execution_count": 177,
   "metadata": {},
   "outputs": [],
   "source": [
    "y_fit11=fx(x10,param11[0],param11[1],param11[2])"
   ]
  },
  {
   "cell_type": "code",
   "execution_count": 178,
   "metadata": {},
   "outputs": [
    {
     "data": {
      "text/plain": [
       "<function matplotlib.pyplot.legend(*args, **kwargs)>"
      ]
     },
     "execution_count": 178,
     "metadata": {},
     "output_type": "execute_result"
    },
    {
     "data": {
      "image/png": "[encoded data removed]",
      "text/plain": [
       "<Figure size 432x288 with 1 Axes>"
      ]
     },
     "metadata": {
      "needs_background": "light"
     },
     "output_type": "display_data"
    }
   ],
   "source": [
    "n10, bins10, patches10=plt.hist(Cd109_New['LaBr3'], bins=100, range=(50,350))\n",
    "plt.plot(x10[55:65],y_fit11[55:65],label='Fit')\n",
    "plt.title(\"Gaussian Fit of New Cd109 (88 keV)\")\n",
    "plt.xlabel(\"Channel Number\")\n",
    "plt.ylabel(\"Event Counts\")\n",
    "plt.legend"
   ]
  },
  {
   "cell_type": "code",
   "execution_count": 179,
   "metadata": {},
   "outputs": [],
   "source": [
    "Co57_New=pd.read_csv(\"GRAPE2019_Aug_08_22_12_26_08_.dat.tdms_formatted_data_edit.csv\")"
   ]
  },
  {
   "cell_type": "code",
   "execution_count": 180,
   "metadata": {},
   "outputs": [
    {
     "data": {
      "image/png": "[encoded data removed]",
      "text/plain": [
       "<Figure size 432x288 with 1 Axes>"
      ]
     },
     "metadata": {
      "needs_background": "light"
     },
     "output_type": "display_data"
    }
   ],
   "source": [
    "n11, bins11, patches11=plt.hist(Co57_New['LaBr3'], bins=100, range=(0,750))"
   ]
  },
  {
   "cell_type": "code",
   "execution_count": 181,
   "metadata": {},
   "outputs": [],
   "source": [
    "x11 = (bins11[:-1] + bins11[1:]) / 2"
   ]
  },
  {
   "cell_type": "code",
   "execution_count": 182,
   "metadata": {},
   "outputs": [],
   "source": [
    "mean_Co57_new=250"
   ]
  },
  {
   "cell_type": "code",
   "execution_count": 183,
   "metadata": {},
   "outputs": [],
   "source": [
    "std_Co57_new=9.56"
   ]
  },
  {
   "cell_type": "code",
   "execution_count": 184,
   "metadata": {},
   "outputs": [],
   "source": [
    "Area_Co57_new=61250"
   ]
  },
  {
   "cell_type": "code",
   "execution_count": 185,
   "metadata": {},
   "outputs": [],
   "source": [
    "p0_Co57_new=[mean_Co57_new,std_Co57_new,Area_Co57_new]"
   ]
  },
  {
   "cell_type": "code",
   "execution_count": 186,
   "metadata": {},
   "outputs": [],
   "source": [
    "param12, param_cov12=curve_fit(fx,x11[22:82],n11[22:82],p0_Co57_new)"
   ]
  },
  {
   "cell_type": "code",
   "execution_count": 187,
   "metadata": {},
   "outputs": [
    {
     "data": {
      "text/plain": [
       "array([2.48829454e+02, 1.52731639e+02, 2.06951823e+05])"
      ]
     },
     "execution_count": 187,
     "metadata": {},
     "output_type": "execute_result"
    }
   ],
   "source": [
    "param12"
   ]
  },
  {
   "cell_type": "code",
   "execution_count": 188,
   "metadata": {},
   "outputs": [
    {
     "data": {
      "text/plain": [
       "array([[ 6.54203834e+01, -4.70930597e+01, -6.50404534e+04],\n",
       "       [-4.70930597e+01,  5.33578329e+01,  6.39447198e+04],\n",
       "       [-6.50404534e+04,  6.39447198e+04,  9.19832500e+07]])"
      ]
     },
     "execution_count": 188,
     "metadata": {},
     "output_type": "execute_result"
    }
   ],
   "source": [
    "param_cov12"
   ]
  },
  {
   "cell_type": "code",
   "execution_count": 189,
   "metadata": {},
   "outputs": [],
   "source": [
    "y_fit12=fx(x11,param12[0],param12[1],param12[2])"
   ]
  },
  {
   "cell_type": "code",
   "execution_count": 190,
   "metadata": {},
   "outputs": [
    {
     "data": {
      "text/plain": [
       "<function matplotlib.pyplot.legend(*args, **kwargs)>"
      ]
     },
     "execution_count": 190,
     "metadata": {},
     "output_type": "execute_result"
    },
    {
     "data": {
      "image/png": "[encoded data removed]",
      "text/plain": [
       "<Figure size 432x288 with 1 Axes>"
      ]
     },
     "metadata": {
      "needs_background": "light"
     },
     "output_type": "display_data"
    }
   ],
   "source": [
    "n11, bins11, patches11=plt.hist(Co57_New['LaBr3'], bins=100, range=(0,750))\n",
    "plt.plot(x11[22:82],y_fit12[22:82],label='Fit')\n",
    "plt.title(\"Gaussian Fit of New Co57 (122 keV)\")\n",
    "plt.xlabel(\"Channel Number\")\n",
    "plt.ylabel(\"Event Counts\")\n",
    "plt.legend"
   ]
  },
  {
   "cell_type": "code",
   "execution_count": 191,
   "metadata": {},
   "outputs": [],
   "source": [
    "Am241_New=pd.read_csv(\"GRAPE2019_Aug_08_22_13_14_08_.dat.tdms_formatted_data_edit.csv\")"
   ]
  },
  {
   "cell_type": "code",
   "execution_count": 192,
   "metadata": {},
   "outputs": [
    {
     "data": {
      "text/plain": [
       "<function matplotlib.pyplot.legend(*args, **kwargs)>"
      ]
     },
     "execution_count": 192,
     "metadata": {},
     "output_type": "execute_result"
    },
    {
     "data": {
      "image/png": "[encoded data removed]",
      "text/plain": [
       "<Figure size 432x288 with 1 Axes>"
      ]
     },
     "metadata": {
      "needs_background": "light"
     },
     "output_type": "display_data"
    }
   ],
   "source": [
    "n12, bins12, patches12=plt.hist(Am241_New['LaBr3'], bins=100, range=(0,200))\n",
    "plt.title(\"Raw Data of Single Coincidence Am241 in the LaBr3\")\n",
    "plt.xlabel(\"Channel Number\")\n",
    "plt.ylabel(\"Event Counts\")\n",
    "plt.legend"
   ]
  },
  {
   "cell_type": "code",
   "execution_count": 193,
   "metadata": {},
   "outputs": [],
   "source": [
    "x12 = (bins12[:-1] + bins12[1:]) / 2"
   ]
  },
  {
   "cell_type": "code",
   "execution_count": 194,
   "metadata": {},
   "outputs": [],
   "source": [
    "mean_Am241_new=180"
   ]
  },
  {
   "cell_type": "code",
   "execution_count": 195,
   "metadata": {},
   "outputs": [],
   "source": [
    "std_Am241_new=1.06"
   ]
  },
  {
   "cell_type": "code",
   "execution_count": 196,
   "metadata": {},
   "outputs": [],
   "source": [
    "Area_Am241_new=1000000"
   ]
  },
  {
   "cell_type": "code",
   "execution_count": 197,
   "metadata": {},
   "outputs": [],
   "source": [
    "p0_Am241_new=[mean_Am241_new,std_Am241_new,Area_Am241_new]"
   ]
  },
  {
   "cell_type": "code",
   "execution_count": 198,
   "metadata": {},
   "outputs": [],
   "source": [
    "param13, param_cov13=curve_fit(fx,x12[87:99],n12[87:99],p0_Am241_new)"
   ]
  },
  {
   "cell_type": "code",
   "execution_count": 199,
   "metadata": {},
   "outputs": [
    {
     "data": {
      "text/plain": [
       "array([1.80345976e+02, 4.98274529e+00, 1.01203145e+06])"
      ]
     },
     "execution_count": 199,
     "metadata": {},
     "output_type": "execute_result"
    }
   ],
   "source": [
    "param13"
   ]
  },
  {
   "cell_type": "code",
   "execution_count": 200,
   "metadata": {},
   "outputs": [
    {
     "data": {
      "text/plain": [
       "array([[ 1.39364911e-03, -5.27187834e-04, -7.71893033e+01],\n",
       "       [-5.27187834e-04,  1.75899973e-03,  2.10748227e+02],\n",
       "       [-7.71893033e+01,  2.10748227e+02,  4.70085002e+07]])"
      ]
     },
     "execution_count": 200,
     "metadata": {},
     "output_type": "execute_result"
    }
   ],
   "source": [
    "param_cov13"
   ]
  },
  {
   "cell_type": "code",
   "execution_count": 201,
   "metadata": {},
   "outputs": [],
   "source": [
    "y_fit13=fx(x12,param13[0],param13[1],param13[2])"
   ]
  },
  {
   "cell_type": "code",
   "execution_count": 202,
   "metadata": {},
   "outputs": [
    {
     "data": {
      "text/plain": [
       "<function matplotlib.pyplot.legend(*args, **kwargs)>"
      ]
     },
     "execution_count": 202,
     "metadata": {},
     "output_type": "execute_result"
    },
    {
     "data": {
      "image/png": "[encoded data removed]",
      "text/plain": [
       "<Figure size 432x288 with 1 Axes>"
      ]
     },
     "metadata": {
      "needs_background": "light"
     },
     "output_type": "display_data"
    }
   ],
   "source": [
    "n12, bins12, patches12=plt.hist(Am241_New['LaBr3'], bins=100, range=(0,200))\n",
    "plt.plot(x12[87:99],y_fit13[87:99],label='Fit')\n",
    "plt.title(\"Gaussian Fit of New Am241 (59 keV)\")\n",
    "plt.xlabel(\"Channel Number\")\n",
    "plt.ylabel(\"Event Counts\")\n",
    "plt.legend"
   ]
  },
  {
   "cell_type": "code",
   "execution_count": 203,
   "metadata": {},
   "outputs": [],
   "source": [
    "Na22_New=pd.read_csv(\"GRAPE2019_Aug_08_22_13_51_00_.dat.tdms_formatted_data_edit.csv\")"
   ]
  },
  {
   "cell_type": "code",
   "execution_count": 204,
   "metadata": {},
   "outputs": [
    {
     "data": {
      "image/png": "[encoded data removed]",
      "text/plain": [
       "<Figure size 432x288 with 1 Axes>"
      ]
     },
     "metadata": {
      "needs_background": "light"
     },
     "output_type": "display_data"
    }
   ],
   "source": [
    "n13, bins13, patches13=plt.hist(Na22_New['LaBr3'], bins=100, range=(0,1300))"
   ]
  },
  {
   "cell_type": "code",
   "execution_count": 205,
   "metadata": {},
   "outputs": [],
   "source": [
    "x13 = (bins13[:-1] + bins13[1:]) / 2"
   ]
  },
  {
   "cell_type": "code",
   "execution_count": 206,
   "metadata": {},
   "outputs": [],
   "source": [
    "mean_Na22_new=820"
   ]
  },
  {
   "cell_type": "code",
   "execution_count": 207,
   "metadata": {},
   "outputs": [],
   "source": [
    "std_Na22_new=2.12"
   ]
  },
  {
   "cell_type": "code",
   "execution_count": 208,
   "metadata": {},
   "outputs": [],
   "source": [
    "Area_Na22_new=70000"
   ]
  },
  {
   "cell_type": "code",
   "execution_count": 209,
   "metadata": {},
   "outputs": [],
   "source": [
    "p0_Na22_new=[mean_Na22_new,std_Na22_new,Area_Na22_new]"
   ]
  },
  {
   "cell_type": "code",
   "execution_count": 210,
   "metadata": {},
   "outputs": [],
   "source": [
    "param14, param_cov14=curve_fit(fx,x13[63:70],n13[63:70],p0_Na22_new)"
   ]
  },
  {
   "cell_type": "code",
   "execution_count": 211,
   "metadata": {},
   "outputs": [
    {
     "data": {
      "text/plain": [
       "array([8.47588687e+02, 1.25865890e+01, 2.26302363e+05])"
      ]
     },
     "execution_count": 211,
     "metadata": {},
     "output_type": "execute_result"
    }
   ],
   "source": [
    "param14"
   ]
  },
  {
   "cell_type": "code",
   "execution_count": 212,
   "metadata": {},
   "outputs": [
    {
     "data": {
      "text/plain": [
       "array([[ 2.12175468e-01, -1.86031377e-04, -6.40644442e+00],\n",
       "       [-1.86031377e-04,  2.19087206e-01,  1.97441213e+03],\n",
       "       [-6.40644442e+00,  1.97441213e+03,  5.20035081e+07]])"
      ]
     },
     "execution_count": 212,
     "metadata": {},
     "output_type": "execute_result"
    }
   ],
   "source": [
    "param_cov14"
   ]
  },
  {
   "cell_type": "code",
   "execution_count": 213,
   "metadata": {},
   "outputs": [],
   "source": [
    "y_fit14=fx(x13,param14[0],param14[1],param14[2])"
   ]
  },
  {
   "cell_type": "code",
   "execution_count": 214,
   "metadata": {},
   "outputs": [
    {
     "data": {
      "image/png": "[encoded data removed]",
      "text/plain": [
       "<Figure size 432x288 with 1 Axes>"
      ]
     },
     "metadata": {
      "needs_background": "light"
     },
     "output_type": "display_data"
    }
   ],
   "source": [
    "n13, bins13, patches13=plt.hist(Na22_New['LaBr3'], bins=100, range=(0,1300))\n",
    "plt.plot(x13[63:70],y_fit14[63:70],label='Fit')\n",
    "#plt.title(\"Gaussian Fit of New Na22 (511 keV)\")\n",
    "plt.xlabel(\"Channel Number\")\n",
    "plt.ylabel(\"Event Counts\")\n",
    "plt.legend\n",
    "plt.savefig(\"Sample LaBr3 Data.jpg\")"
   ]
  },
  {
   "cell_type": "code",
   "execution_count": null,
   "metadata": {},
   "outputs": [],
   "source": []
  },
  {
   "cell_type": "code",
   "execution_count": 215,
   "metadata": {},
   "outputs": [],
   "source": [
    "Cs137_New=pd.read_csv(\"GRAPE2019_Aug_08_22_14_51_29_.dat.tdms_formatted_data_edit.csv\")"
   ]
  },
  {
   "cell_type": "code",
   "execution_count": 216,
   "metadata": {},
   "outputs": [
    {
     "data": {
      "image/png": "[encoded data removed]",
      "text/plain": [
       "<Figure size 432x288 with 1 Axes>"
      ]
     },
     "metadata": {
      "needs_background": "light"
     },
     "output_type": "display_data"
    }
   ],
   "source": [
    "n14, bins14, patches14=plt.hist(Cs137_New['LaBr3'], bins=100, range=(100,200))"
   ]
  },
  {
   "cell_type": "code",
   "execution_count": 217,
   "metadata": {},
   "outputs": [],
   "source": [
    "x14 = (bins14[:-1] + bins14[1:]) / 2"
   ]
  },
  {
   "cell_type": "code",
   "execution_count": 218,
   "metadata": {},
   "outputs": [],
   "source": [
    "mean_Cs137_32_new=145"
   ]
  },
  {
   "cell_type": "code",
   "execution_count": 219,
   "metadata": {},
   "outputs": [],
   "source": [
    "std_Cs137_32_new=2.12"
   ]
  },
  {
   "cell_type": "code",
   "execution_count": 220,
   "metadata": {},
   "outputs": [],
   "source": [
    "Area_Cs137_32_new=375000"
   ]
  },
  {
   "cell_type": "code",
   "execution_count": 221,
   "metadata": {},
   "outputs": [],
   "source": [
    "p0_Cs137_32_new=[mean_Cs137_32_new,std_Cs137_32_new,Area_Cs137_32_new]"
   ]
  },
  {
   "cell_type": "code",
   "execution_count": 222,
   "metadata": {},
   "outputs": [],
   "source": [
    "param15, param_cov15=curve_fit(fx,x14[34:55],n14[34:55],p0_Cs137_32_new)"
   ]
  },
  {
   "cell_type": "code",
   "execution_count": 223,
   "metadata": {},
   "outputs": [
    {
     "data": {
      "text/plain": [
       "array([1.41027378e+02, 5.53336684e+00, 9.10358434e+04])"
      ]
     },
     "execution_count": 223,
     "metadata": {},
     "output_type": "execute_result"
    }
   ],
   "source": [
    "param15"
   ]
  },
  {
   "cell_type": "code",
   "execution_count": 224,
   "metadata": {},
   "outputs": [
    {
     "data": {
      "text/plain": [
       "array([[ 7.14817231e-02, -2.70358714e-02, -3.23477787e+02],\n",
       "       [-2.70358714e-02,  9.16421341e-02,  8.92878918e+02],\n",
       "       [-3.23477787e+02,  8.92878918e+02,  1.60005352e+07]])"
      ]
     },
     "execution_count": 224,
     "metadata": {},
     "output_type": "execute_result"
    }
   ],
   "source": [
    "param_cov15"
   ]
  },
  {
   "cell_type": "code",
   "execution_count": 225,
   "metadata": {},
   "outputs": [],
   "source": [
    "y_fit15=fx(x14,param15[0],param15[1],param15[2])"
   ]
  },
  {
   "cell_type": "code",
   "execution_count": 226,
   "metadata": {},
   "outputs": [
    {
     "data": {
      "text/plain": [
       "<function matplotlib.pyplot.legend(*args, **kwargs)>"
      ]
     },
     "execution_count": 226,
     "metadata": {},
     "output_type": "execute_result"
    },
    {
     "data": {
      "image/png": "[encoded data removed]",
      "text/plain": [
       "<Figure size 432x288 with 1 Axes>"
      ]
     },
     "metadata": {
      "needs_background": "light"
     },
     "output_type": "display_data"
    }
   ],
   "source": [
    "n14, bins14, patches14=plt.hist(Cs137_New['LaBr3'], bins=100, range=(100,200))\n",
    "plt.plot(x14[34:55],y_fit15[34:55],label='Fit')\n",
    "plt.title(\"Gaussian Fit of New Cs137 (32 keV)\")\n",
    "plt.xlabel(\"Channel Number\")\n",
    "plt.ylabel(\"Event Counts\")\n",
    "plt.legend"
   ]
  },
  {
   "cell_type": "code",
   "execution_count": 227,
   "metadata": {},
   "outputs": [
    {
     "data": {
      "image/png": "[encoded data removed]",
      "text/plain": [
       "<Figure size 432x288 with 1 Axes>"
      ]
     },
     "metadata": {
      "needs_background": "light"
     },
     "output_type": "display_data"
    }
   ],
   "source": [
    "n14_2, bins14_2, patches14_2=plt.hist(Cs137_New['LaBr3'], bins=100, range=(900,1100))"
   ]
  },
  {
   "cell_type": "code",
   "execution_count": 228,
   "metadata": {},
   "outputs": [],
   "source": [
    "x14_2 = (bins14_2[:-1] + bins14_2[1:]) / 2"
   ]
  },
  {
   "cell_type": "code",
   "execution_count": 229,
   "metadata": {},
   "outputs": [],
   "source": [
    "mean_Cs137_661_new=1100"
   ]
  },
  {
   "cell_type": "code",
   "execution_count": 230,
   "metadata": {},
   "outputs": [],
   "source": [
    "std_Cs137_661_new=26.55"
   ]
  },
  {
   "cell_type": "code",
   "execution_count": 231,
   "metadata": {},
   "outputs": [],
   "source": [
    "Area_Cs137_661_new=30000"
   ]
  },
  {
   "cell_type": "code",
   "execution_count": 232,
   "metadata": {},
   "outputs": [],
   "source": [
    "p0_Cs137_661_new=[mean_Cs137_661_new,std_Cs137_661_new,Area_Cs137_661_new]"
   ]
  },
  {
   "cell_type": "code",
   "execution_count": 233,
   "metadata": {},
   "outputs": [],
   "source": [
    "param16, param_cov16=curve_fit(fx,x14_2[43:68],n14_2[43:68],p0_Cs137_661_new)"
   ]
  },
  {
   "cell_type": "code",
   "execution_count": 234,
   "metadata": {},
   "outputs": [
    {
     "data": {
      "text/plain": [
       "array([1.00295414e+03, 1.07302121e+01, 3.09721470e+05])"
      ]
     },
     "execution_count": 234,
     "metadata": {},
     "output_type": "execute_result"
    }
   ],
   "source": [
    "param16"
   ]
  },
  {
   "cell_type": "code",
   "execution_count": 235,
   "metadata": {},
   "outputs": [
    {
     "data": {
      "text/plain": [
       "array([[ 2.86005153e-03, -5.25125337e-04, -1.00583309e+01],\n",
       "       [-5.25125337e-04,  3.42223430e-03,  5.34002261e+01],\n",
       "       [-1.00583309e+01,  5.34002261e+01,  1.90537387e+06]])"
      ]
     },
     "execution_count": 235,
     "metadata": {},
     "output_type": "execute_result"
    }
   ],
   "source": [
    "param_cov16"
   ]
  },
  {
   "cell_type": "code",
   "execution_count": 236,
   "metadata": {},
   "outputs": [],
   "source": [
    "y_fit16=fx(x14_2,param16[0],param16[1],param16[2])"
   ]
  },
  {
   "cell_type": "code",
   "execution_count": 237,
   "metadata": {},
   "outputs": [
    {
     "data": {
      "text/plain": [
       "<function matplotlib.pyplot.legend(*args, **kwargs)>"
      ]
     },
     "execution_count": 237,
     "metadata": {},
     "output_type": "execute_result"
    },
    {
     "data": {
      "image/png": "[encoded data removed]",
      "text/plain": [
       "<Figure size 432x288 with 1 Axes>"
      ]
     },
     "metadata": {
      "needs_background": "light"
     },
     "output_type": "display_data"
    }
   ],
   "source": [
    "n14_2, bins14_2, patches14_2=plt.hist(Cs137_New['LaBr3'], bins=100, range=(900,1100))\n",
    "plt.plot(x14_2[43:68],y_fit16[43:68],label='Fit')\n",
    "plt.title(\"Gaussian Fit of New Cs137 (661 keV)\")\n",
    "plt.xlabel(\"Channel Number\")\n",
    "plt.ylabel(\"Event Counts\")\n",
    "plt.legend"
   ]
  },
  {
   "cell_type": "code",
   "execution_count": 238,
   "metadata": {},
   "outputs": [],
   "source": [
    "Ba133_New=pd.read_csv(\"GRAPE2019_Aug_08_22_16_14_08_.dat.tdms_formatted_data_edit.csv\")"
   ]
  },
  {
   "cell_type": "code",
   "execution_count": 239,
   "metadata": {},
   "outputs": [
    {
     "data": {
      "image/png": "[encoded data removed]",
      "text/plain": [
       "<Figure size 432x288 with 1 Axes>"
      ]
     },
     "metadata": {
      "needs_background": "light"
     },
     "output_type": "display_data"
    }
   ],
   "source": [
    "n15, bins15, patches15=plt.hist(Ba133_New['LaBr3'], bins=100, range=(100,200))"
   ]
  },
  {
   "cell_type": "code",
   "execution_count": 240,
   "metadata": {},
   "outputs": [],
   "source": [
    "x15 = (bins15[:-1] + bins15[1:]) / 2"
   ]
  },
  {
   "cell_type": "code",
   "execution_count": 241,
   "metadata": {},
   "outputs": [],
   "source": [
    "mean_Ba133_31_new=145"
   ]
  },
  {
   "cell_type": "code",
   "execution_count": 242,
   "metadata": {},
   "outputs": [],
   "source": [
    "std_Ba133_31_new=2.12"
   ]
  },
  {
   "cell_type": "code",
   "execution_count": 243,
   "metadata": {},
   "outputs": [],
   "source": [
    "Area_Ba133_31_new=40000"
   ]
  },
  {
   "cell_type": "code",
   "execution_count": 244,
   "metadata": {},
   "outputs": [],
   "source": [
    "p0_Ba133_31_new=[mean_Ba133_31_new,std_Ba133_31_new,Area_Ba133_31_new]"
   ]
  },
  {
   "cell_type": "code",
   "execution_count": 245,
   "metadata": {},
   "outputs": [],
   "source": [
    "param17, param_cov17=curve_fit(fx,x15[33:55],n15[33:55],p0_Ba133_31_new)"
   ]
  },
  {
   "cell_type": "code",
   "execution_count": 246,
   "metadata": {},
   "outputs": [
    {
     "data": {
      "text/plain": [
       "array([1.37773143e+02, 4.56963607e+00, 4.74100541e+04])"
      ]
     },
     "execution_count": 246,
     "metadata": {},
     "output_type": "execute_result"
    }
   ],
   "source": [
    "param17"
   ]
  },
  {
   "cell_type": "code",
   "execution_count": 247,
   "metadata": {},
   "outputs": [
    {
     "data": {
      "text/plain": [
       "array([[ 3.26918326e-02, -1.78002421e-02, -1.46387704e+02],\n",
       "       [-1.78002421e-02,  3.93419015e-02,  2.66321461e+02],\n",
       "       [-1.46387704e+02,  2.66321461e+02,  2.84602705e+06]])"
      ]
     },
     "execution_count": 247,
     "metadata": {},
     "output_type": "execute_result"
    }
   ],
   "source": [
    "param_cov17"
   ]
  },
  {
   "cell_type": "code",
   "execution_count": 248,
   "metadata": {},
   "outputs": [],
   "source": [
    "y_fit17=fx(x15,param17[0],param17[1],param17[2])"
   ]
  },
  {
   "cell_type": "code",
   "execution_count": 249,
   "metadata": {},
   "outputs": [
    {
     "data": {
      "text/plain": [
       "<function matplotlib.pyplot.legend(*args, **kwargs)>"
      ]
     },
     "execution_count": 249,
     "metadata": {},
     "output_type": "execute_result"
    },
    {
     "data": {
      "image/png": "[encoded data removed]",
      "text/plain": [
       "<Figure size 432x288 with 1 Axes>"
      ]
     },
     "metadata": {
      "needs_background": "light"
     },
     "output_type": "display_data"
    }
   ],
   "source": [
    "n15, bins15, patches15=plt.hist(Ba133_New['LaBr3'], bins=100, range=(100,200))\n",
    "plt.plot(x15[33:55],y_fit17[33:55],label='Fit')\n",
    "plt.title(\"Gaussian Fit of New Ba133 (31 keV)\")\n",
    "plt.xlabel(\"Channel Number\")\n",
    "plt.ylabel(\"Event Counts\")\n",
    "plt.legend"
   ]
  },
  {
   "cell_type": "code",
   "execution_count": 250,
   "metadata": {},
   "outputs": [
    {
     "data": {
      "image/png": "[encoded data removed]",
      "text/plain": [
       "<Figure size 432x288 with 1 Axes>"
      ]
     },
     "metadata": {
      "needs_background": "light"
     },
     "output_type": "display_data"
    }
   ],
   "source": [
    "n15_2, bins15_2, patches15_2=plt.hist(Ba133_New['LaBr3'], bins=100, range=(170,270))"
   ]
  },
  {
   "cell_type": "code",
   "execution_count": 251,
   "metadata": {},
   "outputs": [],
   "source": [
    "x15_2 = (bins15_2[:-1] + bins15_2[1:]) / 2"
   ]
  },
  {
   "cell_type": "code",
   "execution_count": 252,
   "metadata": {},
   "outputs": [],
   "source": [
    "mean_Ba133_81_new=215"
   ]
  },
  {
   "cell_type": "code",
   "execution_count": 253,
   "metadata": {},
   "outputs": [],
   "source": [
    "std_Ba133_81_new=2.12"
   ]
  },
  {
   "cell_type": "code",
   "execution_count": 254,
   "metadata": {},
   "outputs": [],
   "source": [
    "Area_Ba133_81_new=75000"
   ]
  },
  {
   "cell_type": "code",
   "execution_count": 255,
   "metadata": {},
   "outputs": [],
   "source": [
    "p0_Ba133_81_new=[mean_Ba133_81_new,std_Ba133_81_new,Area_Ba133_81_new]"
   ]
  },
  {
   "cell_type": "code",
   "execution_count": 256,
   "metadata": {},
   "outputs": [],
   "source": [
    "param18, param_cov18=curve_fit(fx,x15_2[36:60],n15_2[36:60],p0_Ba133_81_new)"
   ]
  },
  {
   "cell_type": "code",
   "execution_count": 257,
   "metadata": {},
   "outputs": [
    {
     "data": {
      "text/plain": [
       "array([2.13251739e+02, 6.01586335e+00, 2.79966943e+04])"
      ]
     },
     "execution_count": 257,
     "metadata": {},
     "output_type": "execute_result"
    }
   ],
   "source": [
    "param18"
   ]
  },
  {
   "cell_type": "code",
   "execution_count": 258,
   "metadata": {},
   "outputs": [
    {
     "data": {
      "text/plain": [
       "array([[ 5.43854762e-03, -2.32085918e-03, -8.03779235e+00],\n",
       "       [-2.32085918e-03,  6.84500552e-03,  1.93288192e+01],\n",
       "       [-8.03779235e+00,  1.93288192e+01,  9.65389278e+04]])"
      ]
     },
     "execution_count": 258,
     "metadata": {},
     "output_type": "execute_result"
    }
   ],
   "source": [
    "param_cov18"
   ]
  },
  {
   "cell_type": "code",
   "execution_count": 259,
   "metadata": {},
   "outputs": [],
   "source": [
    "y_fit18=fx(x15_2,param18[0],param18[1],param18[2])"
   ]
  },
  {
   "cell_type": "code",
   "execution_count": 260,
   "metadata": {},
   "outputs": [
    {
     "data": {
      "text/plain": [
       "<function matplotlib.pyplot.legend(*args, **kwargs)>"
      ]
     },
     "execution_count": 260,
     "metadata": {},
     "output_type": "execute_result"
    },
    {
     "data": {
      "image/png": "[encoded data removed]",
      "text/plain": [
       "<Figure size 432x288 with 1 Axes>"
      ]
     },
     "metadata": {
      "needs_background": "light"
     },
     "output_type": "display_data"
    }
   ],
   "source": [
    "n15_2, bins15_2, patches15_2=plt.hist(Ba133_New['LaBr3'], bins=100, range=(170,270))\n",
    "plt.plot(x15_2[36:60],y_fit18[36:60],label='Fit')\n",
    "plt.title(\"Gaussian Fit of New Ba133 (81 keV)\")\n",
    "plt.xlabel(\"Channel Number\")\n",
    "plt.ylabel(\"Event Counts\")\n",
    "plt.legend"
   ]
  },
  {
   "cell_type": "code",
   "execution_count": 261,
   "metadata": {},
   "outputs": [],
   "source": [
    "Channel_Array_New=[127,138,141.11,180.35,212.89,227.67,248.83,847.59,1002.79]"
   ]
  },
  {
   "cell_type": "code",
   "execution_count": 262,
   "metadata": {},
   "outputs": [],
   "source": [
    "Channel_Array_Low_New=[127,138,141.11,180.35,212.89,227.67,248.83]"
   ]
  },
  {
   "cell_type": "code",
   "execution_count": 263,
   "metadata": {},
   "outputs": [],
   "source": [
    "Channel_Array_Extended_New=[127,138,141.11,180.35,212.89,227.67,248.83,1224.03]"
   ]
  },
  {
   "cell_type": "code",
   "execution_count": 264,
   "metadata": {},
   "outputs": [],
   "source": [
    "Error_Array_New=[.81,.14,.36,.04,.26,.77,8.09,.46,.1]"
   ]
  },
  {
   "cell_type": "code",
   "execution_count": 265,
   "metadata": {},
   "outputs": [],
   "source": [
    "Error_Array_New_Low=[.81,.14,.36,.04,.26,.77,8.09]"
   ]
  },
  {
   "cell_type": "code",
   "execution_count": null,
   "metadata": {},
   "outputs": [],
   "source": []
  },
  {
   "cell_type": "code",
   "execution_count": null,
   "metadata": {},
   "outputs": [],
   "source": []
  },
  {
   "cell_type": "code",
   "execution_count": 266,
   "metadata": {},
   "outputs": [
    {
     "data": {
      "text/plain": [
       "<matplotlib.collections.PathCollection at 0x217525ed5e0>"
      ]
     },
     "execution_count": 266,
     "metadata": {},
     "output_type": "execute_result"
    },
    {
     "data": {
      "image/png": "[encoded data removed]",
      "text/plain": [
       "<Figure size 432x288 with 1 Axes>"
      ]
     },
     "metadata": {
      "needs_background": "light"
     },
     "output_type": "display_data"
    }
   ],
   "source": [
    "plt.scatter(Energy_Low, Channel_Array_Low_New)"
   ]
  },
  {
   "cell_type": "code",
   "execution_count": 267,
   "metadata": {},
   "outputs": [],
   "source": [
    "param_line_low_new, param_cov_line_low_new=curve_fit(fline,Energy_Low,Channel_Array_Low_New,[0,1])"
   ]
  },
  {
   "cell_type": "code",
   "execution_count": 268,
   "metadata": {},
   "outputs": [
    {
     "data": {
      "text/plain": [
       "array([  1.30760737, 100.77606209])"
      ]
     },
     "execution_count": 268,
     "metadata": {},
     "output_type": "execute_result"
    }
   ],
   "source": [
    "param_line_low_new"
   ]
  },
  {
   "cell_type": "code",
   "execution_count": 269,
   "metadata": {},
   "outputs": [
    {
     "data": {
      "text/plain": [
       "array([[ 8.33234974e-03, -5.19260136e-01],\n",
       "       [-5.19260136e-01,  4.19701944e+01]])"
      ]
     },
     "execution_count": 269,
     "metadata": {},
     "output_type": "execute_result"
    }
   ],
   "source": [
    "param_cov_line_low_new"
   ]
  },
  {
   "cell_type": "code",
   "execution_count": 270,
   "metadata": {},
   "outputs": [],
   "source": [
    "param_line_new, param_cov_line_new=curve_fit(fline,Energy,Channel_Array_New,[0,1])"
   ]
  },
  {
   "cell_type": "code",
   "execution_count": 271,
   "metadata": {},
   "outputs": [
    {
     "data": {
      "text/plain": [
       "array([ 1.40591325, 96.02846402])"
      ]
     },
     "execution_count": 271,
     "metadata": {},
     "output_type": "execute_result"
    }
   ],
   "source": [
    "param_line_new"
   ]
  },
  {
   "cell_type": "code",
   "execution_count": 272,
   "metadata": {},
   "outputs": [
    {
     "data": {
      "text/plain": [
       "array([[ 6.64146698e-04, -1.18727290e-01],\n",
       "       [-1.18727290e-01,  5.41784534e+01]])"
      ]
     },
     "execution_count": 272,
     "metadata": {},
     "output_type": "execute_result"
    }
   ],
   "source": [
    "param_cov_line_new"
   ]
  },
  {
   "cell_type": "code",
   "execution_count": 273,
   "metadata": {},
   "outputs": [],
   "source": [
    "param_line_extended_new, param_cov_line_extended_new=curve_fit(fline,Energy_extended,Channel_Array_Extended_New,[0,1])"
   ]
  },
  {
   "cell_type": "code",
   "execution_count": 274,
   "metadata": {},
   "outputs": [
    {
     "data": {
      "text/plain": [
       "array([ 1.41047204, 94.52651854])"
      ]
     },
     "execution_count": 274,
     "metadata": {},
     "output_type": "execute_result"
    }
   ],
   "source": [
    "param_line_extended_new"
   ]
  },
  {
   "cell_type": "code",
   "execution_count": 275,
   "metadata": {},
   "outputs": [
    {
     "data": {
      "text/plain": [
       "array([[ 1.45679949e-04, -2.25117402e-02],\n",
       "       [-2.25117402e-02,  1.22964640e+01]])"
      ]
     },
     "execution_count": 275,
     "metadata": {},
     "output_type": "execute_result"
    }
   ],
   "source": [
    "param_cov_line_extended_new"
   ]
  },
  {
   "cell_type": "code",
   "execution_count": 276,
   "metadata": {},
   "outputs": [],
   "source": [
    "y_fit_line_new=fline(Energy_arr,param_line_new[0],param_line_new[1])"
   ]
  },
  {
   "cell_type": "code",
   "execution_count": 277,
   "metadata": {},
   "outputs": [],
   "source": [
    "y_fit_line_low_new=fline(Energy_arr_low,param_line_low_new[0],param_line_low_new[1])"
   ]
  },
  {
   "cell_type": "code",
   "execution_count": 278,
   "metadata": {},
   "outputs": [],
   "source": [
    "y_fit_line_extended_new=fline(Energy_arr_extended,param_line_extended_new[0],param_line_extended_new[1])"
   ]
  },
  {
   "cell_type": "code",
   "execution_count": 279,
   "metadata": {},
   "outputs": [
    {
     "data": {
      "text/plain": [
       "Text(0, 0.5, 'Channel Number')"
      ]
     },
     "execution_count": 279,
     "metadata": {},
     "output_type": "execute_result"
    },
    {
     "data": {
      "image/png": "[encoded data removed]",
      "text/plain": [
       "<Figure size 648x504 with 1 Axes>"
      ]
     },
     "metadata": {
      "needs_background": "light"
     },
     "output_type": "display_data"
    }
   ],
   "source": [
    "fig=plt.figure(figsize=(9,7))\n",
    "plt.plot(Energy,Channel_Array_New)\n",
    "plt.errorbar(Energy,Channel_Array_New,yerr=Error_Array_New,fmt='o',color=\"red\")\n",
    "plt.title('Energy vs. Channel Number:LaBr',fontsize=20)\n",
    "plt.xlabel('Energy(keV)',fontsize=16)\n",
    "plt.ylabel('Channel Number',fontsize=16)"
   ]
  },
  {
   "cell_type": "code",
   "execution_count": 280,
   "metadata": {},
   "outputs": [
    {
     "data": {
      "image/png": "[encoded data removed]",
      "text/plain": [
       "<Figure size 648x504 with 1 Axes>"
      ]
     },
     "metadata": {
      "needs_background": "light"
     },
     "output_type": "display_data"
    }
   ],
   "source": [
    "fig=plt.figure(figsize=(9,7))\n",
    "plt.plot(Energy,y_fit_line_new,color=\"orange\")\n",
    "plt.errorbar(Energy,Channel_Array_New,yerr=Error_Array_New,fmt='o',color=\"red\")\n",
    "#plt.title('Energy Calibration Curve: $LaBr_3$',fontsize=20)\n",
    "plt.xlabel('Energy(keV)',fontsize=16)\n",
    "plt.ylabel('Channel Number',fontsize=16)\n",
    "plt.savefig(\"Energy Calibration Curve LaBr3.pdf\")"
   ]
  },
  {
   "cell_type": "code",
   "execution_count": 281,
   "metadata": {},
   "outputs": [
    {
     "data": {
      "text/plain": [
       "Text(0, 0.5, 'Channel Number')"
      ]
     },
     "execution_count": 281,
     "metadata": {},
     "output_type": "execute_result"
    },
    {
     "data": {
      "image/png": "[encoded data removed]",
      "text/plain": [
       "<Figure size 648x504 with 1 Axes>"
      ]
     },
     "metadata": {
      "needs_background": "light"
     },
     "output_type": "display_data"
    }
   ],
   "source": [
    "fig=plt.figure(figsize=(9,7))\n",
    "plt.plot(Energy_arr_low,y_fit_line_low_new,color=\"orange\")\n",
    "plt.errorbar(Energy_Low,Channel_Array_Low_New,yerr=Error_Array_New_Low,fmt='o',color=\"red\")\n",
    "plt.title('Just the Low End Energy Calibration Curve: LaBr3',fontsize=20)\n",
    "plt.xlabel('Energy(keV)',fontsize=16)\n",
    "plt.ylabel('Channel Number',fontsize=16)"
   ]
  },
  {
   "cell_type": "code",
   "execution_count": 282,
   "metadata": {},
   "outputs": [
    {
     "data": {
      "text/plain": [
       "Text(0, 0.5, 'Channel Number')"
      ]
     },
     "execution_count": 282,
     "metadata": {},
     "output_type": "execute_result"
    },
    {
     "data": {
      "image/png": "[encoded data removed]",
      "text/plain": [
       "<Figure size 648x504 with 1 Axes>"
      ]
     },
     "metadata": {
      "needs_background": "light"
     },
     "output_type": "display_data"
    }
   ],
   "source": [
    "fig=plt.figure(figsize=(9,7))\n",
    "plt.plot(Energy_arr_extended,y_fit_line_extended_new,color=\"orange\")\n",
    "high_end_energy_new=[511.01,661.66]\n",
    "high_end_channel_new=[847.59,1002.79]\n",
    "plt.scatter(high_end_energy_new,high_end_channel_new)\n",
    "\n",
    "\n",
    "\n",
    "plt.title('Extended Low End Energy Calibration Curve: LaBr3',fontsize=18)\n",
    "plt.xlabel('Energy(keV)',fontsize=16)\n",
    "plt.ylabel('Channel Number',fontsize=16)"
   ]
  },
  {
   "cell_type": "code",
   "execution_count": null,
   "metadata": {},
   "outputs": [],
   "source": []
  },
  {
   "cell_type": "code",
   "execution_count": null,
   "metadata": {},
   "outputs": [],
   "source": []
  },
  {
   "cell_type": "code",
   "execution_count": null,
   "metadata": {},
   "outputs": [],
   "source": []
  },
  {
   "cell_type": "code",
   "execution_count": null,
   "metadata": {},
   "outputs": [],
   "source": []
  },
  {
   "cell_type": "code",
   "execution_count": null,
   "metadata": {},
   "outputs": [],
   "source": []
  }
 ],
 "metadata": {
  "kernelspec": {
   "display_name": "Python 3",
   "language": "python",
   "name": "python3"
  },
  "language_info": {
   "codemirror_mode": {
    "name": "ipython",
    "version": 3
   },
   "file_extension": ".py",
   "mimetype": "text/x-python",
   "name": "python",
   "nbconvert_exporter": "python",
   "pygments_lexer": "ipython3",
   "version": "3.8.5"
  }
 },
 "nbformat": 4,
 "nbformat_minor": 4
}
